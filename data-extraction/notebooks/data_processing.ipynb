{
 "cells": [
  {
   "cell_type": "code",
   "execution_count": 367,
   "metadata": {},
   "outputs": [],
   "source": [
    "import pandas as pd\n",
    "import numpy as np\n",
    "from global_values import *\n",
    "import matplotlib.pyplot as plt"
   ]
  },
  {
   "cell_type": "markdown",
   "metadata": {},
   "source": [
    "# Aids"
   ]
  },
  {
   "cell_type": "code",
   "execution_count": 314,
   "metadata": {},
   "outputs": [
    {
     "data": {
      "text/plain": [
       "Index(['DT_NOTIFIC', 'CS_SEXO', 'NU_IDADE_N', 'CS_RACA', 'SG_UF_NOT'], dtype='object')"
      ]
     },
     "execution_count": 314,
     "metadata": {},
     "output_type": "execute_result"
    }
   ],
   "source": [
    "df = pd.read_csv('../bases/bases_usadas/aids.csv')\n",
    "df.columns"
   ]
  },
  {
   "cell_type": "code",
   "execution_count": 315,
   "metadata": {
    "vscode": {
     "languageId": "javascript"
    }
   },
   "outputs": [
    {
     "data": {
      "text/plain": [
       "Index(['data', 'sexo', 'idade', 'raca', 'estado'], dtype='object')"
      ]
     },
     "execution_count": 315,
     "metadata": {},
     "output_type": "execute_result"
    }
   ],
   "source": [
    "df.rename(columns={\n",
    "    'DT_NOTIFIC': 'data',\n",
    "    'CS_SEXO': 'sexo',\n",
    "    'NU_IDADE_N': 'idade',\n",
    "    'CS_RACA': 'raca',\n",
    "    'SG_UF_NOT': 'estado'\n",
    "}, inplace=True)\n",
    "\n",
    "df.columns"
   ]
  },
  {
   "cell_type": "code",
   "execution_count": 316,
   "metadata": {},
   "outputs": [
    {
     "data": {
      "text/plain": [
       "array([nan,  4.,  9.,  1.,  2.,  3.,  5.])"
      ]
     },
     "execution_count": 316,
     "metadata": {},
     "output_type": "execute_result"
    }
   ],
   "source": [
    "df['raca'].unique()"
   ]
  },
  {
   "cell_type": "code",
   "execution_count": 317,
   "metadata": {},
   "outputs": [
    {
     "data": {
      "text/plain": [
       "array([0., 4., 1., 2., 3., 5.])"
      ]
     },
     "execution_count": 317,
     "metadata": {},
     "output_type": "execute_result"
    }
   ],
   "source": [
    "df['raca'] = df['raca'].fillna(0).replace(9, 0)\n",
    "df['raca'].unique()"
   ]
  },
  {
   "cell_type": "code",
   "execution_count": 318,
   "metadata": {},
   "outputs": [
    {
     "name": "stdout",
     "output_type": "stream",
     "text": [
      "Number of rows with only '*' in the 'data' column: 221514\n"
     ]
    }
   ],
   "source": [
    "num_invalid_dates = df[df['data'].str.match(r'^\\*+$')].shape[0]\n",
    "print(f\"Number of rows with only '*' in the 'data' column: {num_invalid_dates}\")"
   ]
  },
  {
   "cell_type": "code",
   "execution_count": 319,
   "metadata": {},
   "outputs": [],
   "source": [
    "# Not considering the rows with only '*' in the 'data' column\n",
    "\n",
    "df = df[~df['data'].str.match(r'^\\*+$')]"
   ]
  },
  {
   "cell_type": "code",
   "execution_count": 320,
   "metadata": {},
   "outputs": [
    {
     "data": {
      "text/html": [
       "<div>\n",
       "<style scoped>\n",
       "    .dataframe tbody tr th:only-of-type {\n",
       "        vertical-align: middle;\n",
       "    }\n",
       "\n",
       "    .dataframe tbody tr th {\n",
       "        vertical-align: top;\n",
       "    }\n",
       "\n",
       "    .dataframe thead th {\n",
       "        text-align: right;\n",
       "    }\n",
       "</style>\n",
       "<table border=\"1\" class=\"dataframe\">\n",
       "  <thead>\n",
       "    <tr style=\"text-align: right;\">\n",
       "      <th></th>\n",
       "      <th>data</th>\n",
       "      <th>sexo</th>\n",
       "      <th>idade</th>\n",
       "      <th>raca</th>\n",
       "      <th>estado</th>\n",
       "    </tr>\n",
       "  </thead>\n",
       "  <tbody>\n",
       "    <tr>\n",
       "      <th>29</th>\n",
       "      <td>20070102</td>\n",
       "      <td>F</td>\n",
       "      <td>4039</td>\n",
       "      <td>4.0</td>\n",
       "      <td>NaN</td>\n",
       "    </tr>\n",
       "    <tr>\n",
       "      <th>80</th>\n",
       "      <td>20070104</td>\n",
       "      <td>M</td>\n",
       "      <td>4045</td>\n",
       "      <td>0.0</td>\n",
       "      <td>NaN</td>\n",
       "    </tr>\n",
       "    <tr>\n",
       "      <th>108</th>\n",
       "      <td>20070104</td>\n",
       "      <td>F</td>\n",
       "      <td>4041</td>\n",
       "      <td>4.0</td>\n",
       "      <td>NaN</td>\n",
       "    </tr>\n",
       "    <tr>\n",
       "      <th>129</th>\n",
       "      <td>20070106</td>\n",
       "      <td>M</td>\n",
       "      <td>4026</td>\n",
       "      <td>4.0</td>\n",
       "      <td>NaN</td>\n",
       "    </tr>\n",
       "    <tr>\n",
       "      <th>170</th>\n",
       "      <td>20070108</td>\n",
       "      <td>M</td>\n",
       "      <td>4038</td>\n",
       "      <td>1.0</td>\n",
       "      <td>NaN</td>\n",
       "    </tr>\n",
       "  </tbody>\n",
       "</table>\n",
       "</div>"
      ],
      "text/plain": [
       "         data sexo idade  raca  estado\n",
       "29   20070102    F  4039   4.0     NaN\n",
       "80   20070104    M  4045   0.0     NaN\n",
       "108  20070104    F  4041   4.0     NaN\n",
       "129  20070106    M  4026   4.0     NaN\n",
       "170  20070108    M  4038   1.0     NaN"
      ]
     },
     "execution_count": 320,
     "metadata": {},
     "output_type": "execute_result"
    }
   ],
   "source": [
    "df.head()"
   ]
  },
  {
   "cell_type": "code",
   "execution_count": 321,
   "metadata": {},
   "outputs": [
    {
     "name": "stdout",
     "output_type": "stream",
     "text": [
      "All dates follow the yyyymmdd format: True\n"
     ]
    }
   ],
   "source": [
    "# Check if all dates follow the yyyymmdd format\n",
    "valid_dates = df['data'].str.match(r'^\\d{8}$')\n",
    "all_valid = valid_dates.all()\n",
    "\n",
    "print(f\"All dates follow the yyyymmdd format: {all_valid}\")"
   ]
  },
  {
   "cell_type": "code",
   "execution_count": 322,
   "metadata": {},
   "outputs": [
    {
     "data": {
      "text/plain": [
       "array([nan, 35., 31., 15., 33., 43., 41., 11., 26., 42., 13., 52., 17.,\n",
       "       53., 23., 28., 27., 21., 50., 16., 29., 24., 22., 51., 32., 12.,\n",
       "       14., 25.])"
      ]
     },
     "execution_count": 322,
     "metadata": {},
     "output_type": "execute_result"
    }
   ],
   "source": [
    "df['estado'].unique()"
   ]
  },
  {
   "cell_type": "code",
   "execution_count": 323,
   "metadata": {},
   "outputs": [
    {
     "data": {
      "text/plain": [
       "array([ 0., 35., 31., 15., 33., 43., 41., 11., 26., 42., 13., 52., 17.,\n",
       "       53., 23., 28., 27., 21., 50., 16., 29., 24., 22., 51., 32., 12.,\n",
       "       14., 25.])"
      ]
     },
     "execution_count": 323,
     "metadata": {},
     "output_type": "execute_result"
    }
   ],
   "source": [
    "df['estado'] = df['estado'].fillna(0)\n",
    "df['estado'].unique()"
   ]
  },
  {
   "cell_type": "code",
   "execution_count": 324,
   "metadata": {},
   "outputs": [
    {
     "data": {
      "text/html": [
       "<div>\n",
       "<style scoped>\n",
       "    .dataframe tbody tr th:only-of-type {\n",
       "        vertical-align: middle;\n",
       "    }\n",
       "\n",
       "    .dataframe tbody tr th {\n",
       "        vertical-align: top;\n",
       "    }\n",
       "\n",
       "    .dataframe thead th {\n",
       "        text-align: right;\n",
       "    }\n",
       "</style>\n",
       "<table border=\"1\" class=\"dataframe\">\n",
       "  <thead>\n",
       "    <tr style=\"text-align: right;\">\n",
       "      <th></th>\n",
       "      <th>data</th>\n",
       "      <th>sexo</th>\n",
       "      <th>idade</th>\n",
       "      <th>raca</th>\n",
       "      <th>estado</th>\n",
       "    </tr>\n",
       "  </thead>\n",
       "  <tbody>\n",
       "    <tr>\n",
       "      <th>29</th>\n",
       "      <td>20070102</td>\n",
       "      <td>F</td>\n",
       "      <td>4039</td>\n",
       "      <td>4.0</td>\n",
       "      <td>0.0</td>\n",
       "    </tr>\n",
       "    <tr>\n",
       "      <th>80</th>\n",
       "      <td>20070104</td>\n",
       "      <td>M</td>\n",
       "      <td>4045</td>\n",
       "      <td>0.0</td>\n",
       "      <td>0.0</td>\n",
       "    </tr>\n",
       "    <tr>\n",
       "      <th>108</th>\n",
       "      <td>20070104</td>\n",
       "      <td>F</td>\n",
       "      <td>4041</td>\n",
       "      <td>4.0</td>\n",
       "      <td>0.0</td>\n",
       "    </tr>\n",
       "    <tr>\n",
       "      <th>129</th>\n",
       "      <td>20070106</td>\n",
       "      <td>M</td>\n",
       "      <td>4026</td>\n",
       "      <td>4.0</td>\n",
       "      <td>0.0</td>\n",
       "    </tr>\n",
       "    <tr>\n",
       "      <th>170</th>\n",
       "      <td>20070108</td>\n",
       "      <td>M</td>\n",
       "      <td>4038</td>\n",
       "      <td>1.0</td>\n",
       "      <td>0.0</td>\n",
       "    </tr>\n",
       "  </tbody>\n",
       "</table>\n",
       "</div>"
      ],
      "text/plain": [
       "         data sexo idade  raca  estado\n",
       "29   20070102    F  4039   4.0     0.0\n",
       "80   20070104    M  4045   0.0     0.0\n",
       "108  20070104    F  4041   4.0     0.0\n",
       "129  20070106    M  4026   4.0     0.0\n",
       "170  20070108    M  4038   1.0     0.0"
      ]
     },
     "execution_count": 324,
     "metadata": {},
     "output_type": "execute_result"
    }
   ],
   "source": [
    "df.head()"
   ]
  },
  {
   "cell_type": "code",
   "execution_count": 325,
   "metadata": {},
   "outputs": [
    {
     "data": {
      "text/plain": [
       "array(['4039', '4045', '4041', '4026', '4038', '4032', '4053', '4043',\n",
       "       '4030', '4049', '4040', '4033', '4037', '4073', '4036', '4034',\n",
       "       '4024', '4025', '4044', '4068', '4052', '4028', '4048', '4047',\n",
       "       '4029', '4050', '4031', '4084', '4027', '4057', '4061', '4046',\n",
       "       '4042', '4051', '4022', '4059', '4064', '4035', '4065', '4056',\n",
       "       '4069', '4055', '4021', '4063', '4023', '4017', '4075', '4072',\n",
       "       '4058', '4018', '4019', '4070', '4054', '4016', '4067', '4020',\n",
       "       '4062', '4060', '4013', '4085', '4077', '4074', '4071', '4076',\n",
       "       '4014', '4015', '4082', '4066', '4078', '4080', '4083', '4079',\n",
       "       '4094', '4123', '4087', '4093', '4081', '4086', '4088', '4091',\n",
       "       '4109', '4090', '4089', '4105', '4100', '4095', '4102', '4099',\n",
       "       '4092', '4107', '4103', '4115', '4104', '4096', '4097', '4113',\n",
       "       '4098', '4101', '4112'], dtype=object)"
      ]
     },
     "execution_count": 325,
     "metadata": {},
     "output_type": "execute_result"
    }
   ],
   "source": [
    "df[\"idade\"].unique()"
   ]
  },
  {
   "cell_type": "code",
   "execution_count": 326,
   "metadata": {
    "vscode": {
     "languageId": "javascript"
    }
   },
   "outputs": [
    {
     "data": {
      "text/plain": [
       "array(['039', '045', '041', '026', '038', '032', '053', '043', '030',\n",
       "       '049', '040', '033', '037', '073', '036', '034', '024', '025',\n",
       "       '044', '068', '052', '028', '048', '047', '029', '050', '031',\n",
       "       '084', '027', '057', '061', '046', '042', '051', '022', '059',\n",
       "       '064', '035', '065', '056', '069', '055', '021', '063', '023',\n",
       "       '017', '075', '072', '058', '018', '019', '070', '054', '016',\n",
       "       '067', '020', '062', '060', '013', '085', '077', '074', '071',\n",
       "       '076', '014', '015', '082', '066', '078', '080', '083', '079',\n",
       "       '094', '123', '087', '093', '081', '086', '088', '091', '109',\n",
       "       '090', '089', '105', '100', '095', '102', '099', '092', '107',\n",
       "       '103', '115', '104', '096', '097', '113', '098', '101', '112'],\n",
       "      dtype=object)"
      ]
     },
     "execution_count": 326,
     "metadata": {},
     "output_type": "execute_result"
    }
   ],
   "source": [
    "df['idade'] = df['idade'].str.slice(start=1)\n",
    "df['idade'].unique()"
   ]
  },
  {
   "cell_type": "code",
   "execution_count": 327,
   "metadata": {
    "vscode": {
     "languageId": "javascript"
    }
   },
   "outputs": [
    {
     "data": {
      "text/plain": [
       "array([ 39,  45,  41,  26,  38,  32,  53,  43,  30,  49,  40,  33,  37,\n",
       "        73,  36,  34,  24,  25,  44,  68,  52,  28,  48,  47,  29,  50,\n",
       "        31,  84,  27,  57,  61,  46,  42,  51,  22,  59,  64,  35,  65,\n",
       "        56,  69,  55,  21,  63,  23,  17,  75,  72,  58,  18,  19,  70,\n",
       "        54,  16,  67,  20,  62,  60,  13,  85,  77,  74,  71,  76,  14,\n",
       "        15,  82,  66,  78,  80,  83,  79,  94, 123,  87,  93,  81,  86,\n",
       "        88,  91, 109,  90,  89, 105, 100,  95, 102,  99,  92, 107, 103,\n",
       "       115, 104,  96,  97, 113,  98, 101, 112])"
      ]
     },
     "execution_count": 327,
     "metadata": {},
     "output_type": "execute_result"
    }
   ],
   "source": [
    "df['idade'] = pd.to_numeric(df['idade'], errors='coerce')\n",
    "df['idade'].unique()"
   ]
  },
  {
   "cell_type": "code",
   "execution_count": 328,
   "metadata": {
    "vscode": {
     "languageId": "javascript"
    }
   },
   "outputs": [
    {
     "data": {
      "text/html": [
       "<div>\n",
       "<style scoped>\n",
       "    .dataframe tbody tr th:only-of-type {\n",
       "        vertical-align: middle;\n",
       "    }\n",
       "\n",
       "    .dataframe tbody tr th {\n",
       "        vertical-align: top;\n",
       "    }\n",
       "\n",
       "    .dataframe thead th {\n",
       "        text-align: right;\n",
       "    }\n",
       "</style>\n",
       "<table border=\"1\" class=\"dataframe\">\n",
       "  <thead>\n",
       "    <tr style=\"text-align: right;\">\n",
       "      <th></th>\n",
       "      <th>data</th>\n",
       "      <th>sexo</th>\n",
       "      <th>idade</th>\n",
       "      <th>raca</th>\n",
       "      <th>estado</th>\n",
       "    </tr>\n",
       "  </thead>\n",
       "  <tbody>\n",
       "    <tr>\n",
       "      <th>29</th>\n",
       "      <td>20070102</td>\n",
       "      <td>F</td>\n",
       "      <td>39</td>\n",
       "      <td>4.0</td>\n",
       "      <td>0.0</td>\n",
       "    </tr>\n",
       "    <tr>\n",
       "      <th>80</th>\n",
       "      <td>20070104</td>\n",
       "      <td>M</td>\n",
       "      <td>45</td>\n",
       "      <td>0.0</td>\n",
       "      <td>0.0</td>\n",
       "    </tr>\n",
       "    <tr>\n",
       "      <th>108</th>\n",
       "      <td>20070104</td>\n",
       "      <td>F</td>\n",
       "      <td>41</td>\n",
       "      <td>4.0</td>\n",
       "      <td>0.0</td>\n",
       "    </tr>\n",
       "    <tr>\n",
       "      <th>129</th>\n",
       "      <td>20070106</td>\n",
       "      <td>M</td>\n",
       "      <td>26</td>\n",
       "      <td>4.0</td>\n",
       "      <td>0.0</td>\n",
       "    </tr>\n",
       "    <tr>\n",
       "      <th>170</th>\n",
       "      <td>20070108</td>\n",
       "      <td>M</td>\n",
       "      <td>38</td>\n",
       "      <td>1.0</td>\n",
       "      <td>0.0</td>\n",
       "    </tr>\n",
       "  </tbody>\n",
       "</table>\n",
       "</div>"
      ],
      "text/plain": [
       "         data sexo  idade  raca  estado\n",
       "29   20070102    F     39   4.0     0.0\n",
       "80   20070104    M     45   0.0     0.0\n",
       "108  20070104    F     41   4.0     0.0\n",
       "129  20070106    M     26   4.0     0.0\n",
       "170  20070108    M     38   1.0     0.0"
      ]
     },
     "execution_count": 328,
     "metadata": {},
     "output_type": "execute_result"
    }
   ],
   "source": [
    "df.head()"
   ]
  },
  {
   "cell_type": "code",
   "execution_count": 329,
   "metadata": {
    "vscode": {
     "languageId": "javascript"
    }
   },
   "outputs": [
    {
     "data": {
      "text/plain": [
       "array(['F', 'M', nan], dtype=object)"
      ]
     },
     "execution_count": 329,
     "metadata": {},
     "output_type": "execute_result"
    }
   ],
   "source": [
    "df['sexo'].unique()"
   ]
  },
  {
   "cell_type": "code",
   "execution_count": 330,
   "metadata": {},
   "outputs": [
    {
     "data": {
      "text/plain": [
       "array(['2', '1', '0'], dtype=object)"
      ]
     },
     "execution_count": 330,
     "metadata": {},
     "output_type": "execute_result"
    }
   ],
   "source": [
    "df['sexo'] = df['sexo'].fillna('0').replace({'M': '1', 'F': '2'})\n",
    "df['sexo'].unique()"
   ]
  },
  {
   "cell_type": "code",
   "execution_count": 331,
   "metadata": {},
   "outputs": [
    {
     "name": "stdout",
     "output_type": "stream",
     "text": [
      "<class 'pandas.core.frame.DataFrame'>\n",
      "Index: 419624 entries, 29 to 641137\n",
      "Data columns (total 5 columns):\n",
      " #   Column  Non-Null Count   Dtype  \n",
      "---  ------  --------------   -----  \n",
      " 0   data    419624 non-null  object \n",
      " 1   sexo    419624 non-null  object \n",
      " 2   idade   419624 non-null  int64  \n",
      " 3   raca    419624 non-null  float64\n",
      " 4   estado  419624 non-null  float64\n",
      "dtypes: float64(2), int64(1), object(2)\n",
      "memory usage: 19.2+ MB\n"
     ]
    }
   ],
   "source": [
    "df.info()"
   ]
  },
  {
   "cell_type": "code",
   "execution_count": 332,
   "metadata": {},
   "outputs": [
    {
     "data": {
      "text/plain": [
       "data      object\n",
       "sexo      object\n",
       "idade      int64\n",
       "raca       int64\n",
       "estado     int64\n",
       "dtype: object"
      ]
     },
     "execution_count": 332,
     "metadata": {},
     "output_type": "execute_result"
    }
   ],
   "source": [
    "df['estado'] = df['estado'].astype(int)\n",
    "df['raca'] = df['raca'].astype(int)\n",
    "df.dtypes"
   ]
  },
  {
   "cell_type": "code",
   "execution_count": 333,
   "metadata": {
    "vscode": {
     "languageId": "javascript"
    }
   },
   "outputs": [
    {
     "data": {
      "text/html": [
       "<div>\n",
       "<style scoped>\n",
       "    .dataframe tbody tr th:only-of-type {\n",
       "        vertical-align: middle;\n",
       "    }\n",
       "\n",
       "    .dataframe tbody tr th {\n",
       "        vertical-align: top;\n",
       "    }\n",
       "\n",
       "    .dataframe thead th {\n",
       "        text-align: right;\n",
       "    }\n",
       "</style>\n",
       "<table border=\"1\" class=\"dataframe\">\n",
       "  <thead>\n",
       "    <tr style=\"text-align: right;\">\n",
       "      <th></th>\n",
       "      <th>sexo</th>\n",
       "      <th>idade</th>\n",
       "      <th>raca</th>\n",
       "      <th>estado</th>\n",
       "    </tr>\n",
       "    <tr>\n",
       "      <th>data</th>\n",
       "      <th></th>\n",
       "      <th></th>\n",
       "      <th></th>\n",
       "      <th></th>\n",
       "    </tr>\n",
       "  </thead>\n",
       "  <tbody>\n",
       "    <tr>\n",
       "      <th>2007-01-02</th>\n",
       "      <td>2</td>\n",
       "      <td>39</td>\n",
       "      <td>4</td>\n",
       "      <td>0</td>\n",
       "    </tr>\n",
       "    <tr>\n",
       "      <th>2007-01-04</th>\n",
       "      <td>1</td>\n",
       "      <td>45</td>\n",
       "      <td>0</td>\n",
       "      <td>0</td>\n",
       "    </tr>\n",
       "    <tr>\n",
       "      <th>2007-01-04</th>\n",
       "      <td>2</td>\n",
       "      <td>41</td>\n",
       "      <td>4</td>\n",
       "      <td>0</td>\n",
       "    </tr>\n",
       "    <tr>\n",
       "      <th>2007-01-06</th>\n",
       "      <td>1</td>\n",
       "      <td>26</td>\n",
       "      <td>4</td>\n",
       "      <td>0</td>\n",
       "    </tr>\n",
       "    <tr>\n",
       "      <th>2007-01-08</th>\n",
       "      <td>1</td>\n",
       "      <td>38</td>\n",
       "      <td>1</td>\n",
       "      <td>0</td>\n",
       "    </tr>\n",
       "  </tbody>\n",
       "</table>\n",
       "</div>"
      ],
      "text/plain": [
       "           sexo  idade  raca  estado\n",
       "data                                \n",
       "2007-01-02    2     39     4       0\n",
       "2007-01-04    1     45     0       0\n",
       "2007-01-04    2     41     4       0\n",
       "2007-01-06    1     26     4       0\n",
       "2007-01-08    1     38     1       0"
      ]
     },
     "execution_count": 333,
     "metadata": {},
     "output_type": "execute_result"
    }
   ],
   "source": [
    "df['data'] = pd.to_datetime(df['data'], format='%Y%m%d')\n",
    "df.set_index('data', inplace=True)\n",
    "df.head()"
   ]
  },
  {
   "cell_type": "code",
   "execution_count": 334,
   "metadata": {
    "vscode": {
     "languageId": "javascript"
    }
   },
   "outputs": [
    {
     "name": "stdout",
     "output_type": "stream",
     "text": [
      "<class 'pandas.core.frame.DataFrame'>\n",
      "DatetimeIndex: 419624 entries, 2007-01-02 to 2023-06-29\n",
      "Data columns (total 4 columns):\n",
      " #   Column  Non-Null Count   Dtype \n",
      "---  ------  --------------   ----- \n",
      " 0   sexo    419624 non-null  object\n",
      " 1   idade   419624 non-null  int64 \n",
      " 2   raca    419624 non-null  int64 \n",
      " 3   estado  419624 non-null  int64 \n",
      "dtypes: int64(3), object(1)\n",
      "memory usage: 16.0+ MB\n"
     ]
    }
   ],
   "source": [
    "df.info()"
   ]
  },
  {
   "cell_type": "code",
   "execution_count": 335,
   "metadata": {
    "vscode": {
     "languageId": "javascript"
    }
   },
   "outputs": [],
   "source": [
    "df.to_parquet('AIDS.parquet')"
   ]
  },
  {
   "cell_type": "markdown",
   "metadata": {},
   "source": [
    "# Dengue"
   ]
  },
  {
   "cell_type": "code",
   "execution_count": 336,
   "metadata": {
    "vscode": {
     "languageId": "javascript"
    }
   },
   "outputs": [
    {
     "name": "stderr",
     "output_type": "stream",
     "text": [
      "C:\\Users\\angel\\AppData\\Local\\Temp\\ipykernel_27104\\1084313326.py:1: DtypeWarning: Columns (1,2,3,4) have mixed types. Specify dtype option on import or set low_memory=False.\n",
      "  df1 = pd.read_csv('../bases/bases_usadas/deng1.csv')\n"
     ]
    },
    {
     "data": {
      "text/plain": [
       "Index(['CS_SEXO', 'CS_RACA', 'DT_NOTIFIC', 'SG_UF_NOT', 'NU_IDADE_N'], dtype='object')"
      ]
     },
     "execution_count": 336,
     "metadata": {},
     "output_type": "execute_result"
    }
   ],
   "source": [
    "df1 = pd.read_csv('../bases/bases_usadas/deng1.csv')\n",
    "df1.columns"
   ]
  },
  {
   "cell_type": "code",
   "execution_count": 337,
   "metadata": {
    "vscode": {
     "languageId": "javascript"
    }
   },
   "outputs": [
    {
     "data": {
      "text/plain": [
       "Index(['sexo', 'raca', 'data', 'estado', 'idade'], dtype='object')"
      ]
     },
     "execution_count": 337,
     "metadata": {},
     "output_type": "execute_result"
    }
   ],
   "source": [
    "df1.rename(columns={\n",
    "    'CS_SEXO': 'sexo',\n",
    "    'CS_RACA': 'raca',\n",
    "    'DT_NOTIFIC': 'data',\n",
    "    'SG_UF_NOT': 'estado',\n",
    "    'NU_IDADE_N': 'idade'\n",
    "}, inplace=True)\n",
    "\n",
    "df1.columns"
   ]
  },
  {
   "cell_type": "code",
   "execution_count": 338,
   "metadata": {
    "vscode": {
     "languageId": "javascript"
    }
   },
   "outputs": [
    {
     "data": {
      "text/plain": [
       "Index(['CS_SEXO', 'CS_RACA', 'DT_NOTIFIC', 'SG_UF_NOT', 'NU_IDADE'], dtype='object')"
      ]
     },
     "execution_count": 338,
     "metadata": {},
     "output_type": "execute_result"
    }
   ],
   "source": [
    "df2 = pd.read_csv('../bases/bases_usadas/deng2.csv')\n",
    "df2.columns"
   ]
  },
  {
   "cell_type": "code",
   "execution_count": 339,
   "metadata": {
    "vscode": {
     "languageId": "javascript"
    }
   },
   "outputs": [
    {
     "data": {
      "text/plain": [
       "Index(['sexo', 'raca', 'data', 'estado', 'idade'], dtype='object')"
      ]
     },
     "execution_count": 339,
     "metadata": {},
     "output_type": "execute_result"
    }
   ],
   "source": [
    "df2.rename(columns={\n",
    "    'CS_SEXO': 'sexo',\n",
    "    'CS_RACA': 'raca',\n",
    "    'DT_NOTIFIC': 'data',\n",
    "    'SG_UF_NOT': 'estado',\n",
    "    'NU_IDADE': 'idade'\n",
    "}, inplace=True)\n",
    "\n",
    "df2.columns"
   ]
  },
  {
   "cell_type": "code",
   "execution_count": 340,
   "metadata": {},
   "outputs": [
    {
     "name": "stdout",
     "output_type": "stream",
     "text": [
      "<class 'pandas.core.frame.DataFrame'>\n",
      "Index: 24868204 entries, 0 to 2784536\n",
      "Data columns (total 5 columns):\n",
      " #   Column  Dtype \n",
      "---  ------  ----- \n",
      " 0   sexo    object\n",
      " 1   raca    object\n",
      " 2   data    object\n",
      " 3   estado  object\n",
      " 4   idade   object\n",
      "dtypes: object(5)\n",
      "memory usage: 1.1+ GB\n"
     ]
    }
   ],
   "source": [
    "# Concatenate df1 and df2 to df\n",
    "df = pd.concat([df1, df2])\n",
    "\n",
    "# Display the new dataframe info\n",
    "df.info()"
   ]
  },
  {
   "cell_type": "code",
   "execution_count": 341,
   "metadata": {},
   "outputs": [
    {
     "name": "stdout",
     "output_type": "stream",
     "text": [
      "Memory usage of df: 4799.82 MB\n"
     ]
    }
   ],
   "source": [
    "memory_usage = df.memory_usage(deep=True).sum()\n",
    "print(f\"Memory usage of df: {memory_usage / (1024 ** 2):.2f} MB\")"
   ]
  },
  {
   "cell_type": "code",
   "execution_count": 342,
   "metadata": {},
   "outputs": [
    {
     "data": {
      "text/html": [
       "<div>\n",
       "<style scoped>\n",
       "    .dataframe tbody tr th:only-of-type {\n",
       "        vertical-align: middle;\n",
       "    }\n",
       "\n",
       "    .dataframe tbody tr th {\n",
       "        vertical-align: top;\n",
       "    }\n",
       "\n",
       "    .dataframe thead th {\n",
       "        text-align: right;\n",
       "    }\n",
       "</style>\n",
       "<table border=\"1\" class=\"dataframe\">\n",
       "  <thead>\n",
       "    <tr style=\"text-align: right;\">\n",
       "      <th></th>\n",
       "      <th>sexo</th>\n",
       "      <th>raca</th>\n",
       "      <th>data</th>\n",
       "      <th>estado</th>\n",
       "      <th>idade</th>\n",
       "    </tr>\n",
       "  </thead>\n",
       "  <tbody>\n",
       "    <tr>\n",
       "      <th>0</th>\n",
       "      <td>F</td>\n",
       "      <td>4.0</td>\n",
       "      <td>20070212</td>\n",
       "      <td>21.0</td>\n",
       "      <td>4032</td>\n",
       "    </tr>\n",
       "    <tr>\n",
       "      <th>1</th>\n",
       "      <td>F</td>\n",
       "      <td>4.0</td>\n",
       "      <td>20070212</td>\n",
       "      <td>21.0</td>\n",
       "      <td>4017</td>\n",
       "    </tr>\n",
       "    <tr>\n",
       "      <th>2</th>\n",
       "      <td>M</td>\n",
       "      <td>1.0</td>\n",
       "      <td>20070226</td>\n",
       "      <td>26.0</td>\n",
       "      <td>4033</td>\n",
       "    </tr>\n",
       "    <tr>\n",
       "      <th>3</th>\n",
       "      <td>F</td>\n",
       "      <td>1.0</td>\n",
       "      <td>20070212</td>\n",
       "      <td>29.0</td>\n",
       "      <td>3004</td>\n",
       "    </tr>\n",
       "    <tr>\n",
       "      <th>4</th>\n",
       "      <td>M</td>\n",
       "      <td>4.0</td>\n",
       "      <td>20070207</td>\n",
       "      <td>29.0</td>\n",
       "      <td>4009</td>\n",
       "    </tr>\n",
       "    <tr>\n",
       "      <th>...</th>\n",
       "      <td>...</td>\n",
       "      <td>...</td>\n",
       "      <td>...</td>\n",
       "      <td>...</td>\n",
       "      <td>...</td>\n",
       "    </tr>\n",
       "    <tr>\n",
       "      <th>2784532</th>\n",
       "      <td>F</td>\n",
       "      <td>4.0</td>\n",
       "      <td>20061010</td>\n",
       "      <td>TO</td>\n",
       "      <td>A008</td>\n",
       "    </tr>\n",
       "    <tr>\n",
       "      <th>2784533</th>\n",
       "      <td>F</td>\n",
       "      <td>4.0</td>\n",
       "      <td>20061010</td>\n",
       "      <td>TO</td>\n",
       "      <td>A031</td>\n",
       "    </tr>\n",
       "    <tr>\n",
       "      <th>2784534</th>\n",
       "      <td>F</td>\n",
       "      <td>2.0</td>\n",
       "      <td>20061204</td>\n",
       "      <td>TO</td>\n",
       "      <td>A011</td>\n",
       "    </tr>\n",
       "    <tr>\n",
       "      <th>2784535</th>\n",
       "      <td>F</td>\n",
       "      <td>1.0</td>\n",
       "      <td>20061227</td>\n",
       "      <td>TO</td>\n",
       "      <td>D001</td>\n",
       "    </tr>\n",
       "    <tr>\n",
       "      <th>2784536</th>\n",
       "      <td>F</td>\n",
       "      <td>1.0</td>\n",
       "      <td>20061010</td>\n",
       "      <td>TO</td>\n",
       "      <td>A005</td>\n",
       "    </tr>\n",
       "  </tbody>\n",
       "</table>\n",
       "<p>24868204 rows × 5 columns</p>\n",
       "</div>"
      ],
      "text/plain": [
       "        sexo raca      data estado idade\n",
       "0          F  4.0  20070212   21.0  4032\n",
       "1          F  4.0  20070212   21.0  4017\n",
       "2          M  1.0  20070226   26.0  4033\n",
       "3          F  1.0  20070212   29.0  3004\n",
       "4          M  4.0  20070207   29.0  4009\n",
       "...      ...  ...       ...    ...   ...\n",
       "2784532    F  4.0  20061010     TO  A008\n",
       "2784533    F  4.0  20061010     TO  A031\n",
       "2784534    F  2.0  20061204     TO  A011\n",
       "2784535    F  1.0  20061227     TO  D001\n",
       "2784536    F  1.0  20061010     TO  A005\n",
       "\n",
       "[24868204 rows x 5 columns]"
      ]
     },
     "execution_count": 342,
     "metadata": {},
     "output_type": "execute_result"
    }
   ],
   "source": [
    "df"
   ]
  },
  {
   "cell_type": "code",
   "execution_count": 343,
   "metadata": {},
   "outputs": [
    {
     "data": {
      "text/plain": [
       "array(['F', 'M', 'I', 'O', nan], dtype=object)"
      ]
     },
     "execution_count": 343,
     "metadata": {},
     "output_type": "execute_result"
    }
   ],
   "source": [
    "df['sexo'].unique()"
   ]
  },
  {
   "cell_type": "code",
   "execution_count": 344,
   "metadata": {
    "vscode": {
     "languageId": "javascript"
    }
   },
   "outputs": [
    {
     "data": {
      "text/plain": [
       "array(['2', '1', '0'], dtype=object)"
      ]
     },
     "execution_count": 344,
     "metadata": {},
     "output_type": "execute_result"
    }
   ],
   "source": [
    "df['sexo'] = df['sexo'].replace({'I': '0', 'O': '0', np.nan: '0', 'F': '2', 'M': '1'})\n",
    "df['sexo'].unique()"
   ]
  },
  {
   "cell_type": "code",
   "execution_count": 345,
   "metadata": {
    "vscode": {
     "languageId": "javascript"
    }
   },
   "outputs": [
    {
     "data": {
      "text/plain": [
       "sexo       int64\n",
       "raca      object\n",
       "data      object\n",
       "estado    object\n",
       "idade     object\n",
       "dtype: object"
      ]
     },
     "execution_count": 345,
     "metadata": {},
     "output_type": "execute_result"
    }
   ],
   "source": [
    "df['sexo'] = df['sexo'].astype(int)\n",
    "df.dtypes"
   ]
  },
  {
   "cell_type": "code",
   "execution_count": 346,
   "metadata": {},
   "outputs": [
    {
     "data": {
      "text/html": [
       "<div>\n",
       "<style scoped>\n",
       "    .dataframe tbody tr th:only-of-type {\n",
       "        vertical-align: middle;\n",
       "    }\n",
       "\n",
       "    .dataframe tbody tr th {\n",
       "        vertical-align: top;\n",
       "    }\n",
       "\n",
       "    .dataframe thead th {\n",
       "        text-align: right;\n",
       "    }\n",
       "</style>\n",
       "<table border=\"1\" class=\"dataframe\">\n",
       "  <thead>\n",
       "    <tr style=\"text-align: right;\">\n",
       "      <th></th>\n",
       "      <th>sexo</th>\n",
       "      <th>raca</th>\n",
       "      <th>data</th>\n",
       "      <th>estado</th>\n",
       "      <th>idade</th>\n",
       "    </tr>\n",
       "  </thead>\n",
       "  <tbody>\n",
       "    <tr>\n",
       "      <th>0</th>\n",
       "      <td>2</td>\n",
       "      <td>4.0</td>\n",
       "      <td>20070212</td>\n",
       "      <td>21.0</td>\n",
       "      <td>4032</td>\n",
       "    </tr>\n",
       "    <tr>\n",
       "      <th>1</th>\n",
       "      <td>2</td>\n",
       "      <td>4.0</td>\n",
       "      <td>20070212</td>\n",
       "      <td>21.0</td>\n",
       "      <td>4017</td>\n",
       "    </tr>\n",
       "    <tr>\n",
       "      <th>2</th>\n",
       "      <td>1</td>\n",
       "      <td>1.0</td>\n",
       "      <td>20070226</td>\n",
       "      <td>26.0</td>\n",
       "      <td>4033</td>\n",
       "    </tr>\n",
       "    <tr>\n",
       "      <th>3</th>\n",
       "      <td>2</td>\n",
       "      <td>1.0</td>\n",
       "      <td>20070212</td>\n",
       "      <td>29.0</td>\n",
       "      <td>3004</td>\n",
       "    </tr>\n",
       "    <tr>\n",
       "      <th>4</th>\n",
       "      <td>1</td>\n",
       "      <td>4.0</td>\n",
       "      <td>20070207</td>\n",
       "      <td>29.0</td>\n",
       "      <td>4009</td>\n",
       "    </tr>\n",
       "    <tr>\n",
       "      <th>...</th>\n",
       "      <td>...</td>\n",
       "      <td>...</td>\n",
       "      <td>...</td>\n",
       "      <td>...</td>\n",
       "      <td>...</td>\n",
       "    </tr>\n",
       "    <tr>\n",
       "      <th>2784532</th>\n",
       "      <td>2</td>\n",
       "      <td>4.0</td>\n",
       "      <td>20061010</td>\n",
       "      <td>TO</td>\n",
       "      <td>A008</td>\n",
       "    </tr>\n",
       "    <tr>\n",
       "      <th>2784533</th>\n",
       "      <td>2</td>\n",
       "      <td>4.0</td>\n",
       "      <td>20061010</td>\n",
       "      <td>TO</td>\n",
       "      <td>A031</td>\n",
       "    </tr>\n",
       "    <tr>\n",
       "      <th>2784534</th>\n",
       "      <td>2</td>\n",
       "      <td>2.0</td>\n",
       "      <td>20061204</td>\n",
       "      <td>TO</td>\n",
       "      <td>A011</td>\n",
       "    </tr>\n",
       "    <tr>\n",
       "      <th>2784535</th>\n",
       "      <td>2</td>\n",
       "      <td>1.0</td>\n",
       "      <td>20061227</td>\n",
       "      <td>TO</td>\n",
       "      <td>D001</td>\n",
       "    </tr>\n",
       "    <tr>\n",
       "      <th>2784536</th>\n",
       "      <td>2</td>\n",
       "      <td>1.0</td>\n",
       "      <td>20061010</td>\n",
       "      <td>TO</td>\n",
       "      <td>A005</td>\n",
       "    </tr>\n",
       "  </tbody>\n",
       "</table>\n",
       "<p>24868204 rows × 5 columns</p>\n",
       "</div>"
      ],
      "text/plain": [
       "         sexo raca      data estado idade\n",
       "0           2  4.0  20070212   21.0  4032\n",
       "1           2  4.0  20070212   21.0  4017\n",
       "2           1  1.0  20070226   26.0  4033\n",
       "3           2  1.0  20070212   29.0  3004\n",
       "4           1  4.0  20070207   29.0  4009\n",
       "...       ...  ...       ...    ...   ...\n",
       "2784532     2  4.0  20061010     TO  A008\n",
       "2784533     2  4.0  20061010     TO  A031\n",
       "2784534     2  2.0  20061204     TO  A011\n",
       "2784535     2  1.0  20061227     TO  D001\n",
       "2784536     2  1.0  20061010     TO  A005\n",
       "\n",
       "[24868204 rows x 5 columns]"
      ]
     },
     "execution_count": 346,
     "metadata": {},
     "output_type": "execute_result"
    }
   ],
   "source": [
    "df"
   ]
  },
  {
   "cell_type": "code",
   "execution_count": 347,
   "metadata": {},
   "outputs": [
    {
     "data": {
      "text/plain": [
       "array([4.0, 1.0, 9.0, nan, 2.0, 5.0, 3.0, '1', '4', '2', '9', '3', '5',\n",
       "       '@'], dtype=object)"
      ]
     },
     "execution_count": 347,
     "metadata": {},
     "output_type": "execute_result"
    }
   ],
   "source": [
    "df['raca'].unique()"
   ]
  },
  {
   "cell_type": "code",
   "execution_count": 348,
   "metadata": {
    "vscode": {
     "languageId": "javascript"
    }
   },
   "outputs": [
    {
     "data": {
      "text/plain": [
       "array([4.0, 1.0, 0, 2.0, 5.0, 3.0, '1', '4', '2', '3', '5'], dtype=object)"
      ]
     },
     "execution_count": 348,
     "metadata": {},
     "output_type": "execute_result"
    }
   ],
   "source": [
    "df['raca'] = df['raca'].replace([9.0, '9', '@', np.nan], 0)\n",
    "df['raca'].unique()"
   ]
  },
  {
   "cell_type": "code",
   "execution_count": 349,
   "metadata": {
    "vscode": {
     "languageId": "javascript"
    }
   },
   "outputs": [
    {
     "data": {
      "text/plain": [
       "sexo       int64\n",
       "raca       int64\n",
       "data      object\n",
       "estado    object\n",
       "idade     object\n",
       "dtype: object"
      ]
     },
     "execution_count": 349,
     "metadata": {},
     "output_type": "execute_result"
    }
   ],
   "source": [
    "df['raca'] = df['raca'].astype(int)\n",
    "df.dtypes"
   ]
  },
  {
   "cell_type": "code",
   "execution_count": 350,
   "metadata": {
    "vscode": {
     "languageId": "javascript"
    }
   },
   "outputs": [
    {
     "data": {
      "text/html": [
       "<div>\n",
       "<style scoped>\n",
       "    .dataframe tbody tr th:only-of-type {\n",
       "        vertical-align: middle;\n",
       "    }\n",
       "\n",
       "    .dataframe tbody tr th {\n",
       "        vertical-align: top;\n",
       "    }\n",
       "\n",
       "    .dataframe thead th {\n",
       "        text-align: right;\n",
       "    }\n",
       "</style>\n",
       "<table border=\"1\" class=\"dataframe\">\n",
       "  <thead>\n",
       "    <tr style=\"text-align: right;\">\n",
       "      <th></th>\n",
       "      <th>sexo</th>\n",
       "      <th>raca</th>\n",
       "      <th>data</th>\n",
       "      <th>estado</th>\n",
       "      <th>idade</th>\n",
       "    </tr>\n",
       "  </thead>\n",
       "  <tbody>\n",
       "    <tr>\n",
       "      <th>0</th>\n",
       "      <td>2</td>\n",
       "      <td>4</td>\n",
       "      <td>20070212</td>\n",
       "      <td>21.0</td>\n",
       "      <td>4032</td>\n",
       "    </tr>\n",
       "    <tr>\n",
       "      <th>1</th>\n",
       "      <td>2</td>\n",
       "      <td>4</td>\n",
       "      <td>20070212</td>\n",
       "      <td>21.0</td>\n",
       "      <td>4017</td>\n",
       "    </tr>\n",
       "    <tr>\n",
       "      <th>2</th>\n",
       "      <td>1</td>\n",
       "      <td>1</td>\n",
       "      <td>20070226</td>\n",
       "      <td>26.0</td>\n",
       "      <td>4033</td>\n",
       "    </tr>\n",
       "    <tr>\n",
       "      <th>3</th>\n",
       "      <td>2</td>\n",
       "      <td>1</td>\n",
       "      <td>20070212</td>\n",
       "      <td>29.0</td>\n",
       "      <td>3004</td>\n",
       "    </tr>\n",
       "    <tr>\n",
       "      <th>4</th>\n",
       "      <td>1</td>\n",
       "      <td>4</td>\n",
       "      <td>20070207</td>\n",
       "      <td>29.0</td>\n",
       "      <td>4009</td>\n",
       "    </tr>\n",
       "    <tr>\n",
       "      <th>...</th>\n",
       "      <td>...</td>\n",
       "      <td>...</td>\n",
       "      <td>...</td>\n",
       "      <td>...</td>\n",
       "      <td>...</td>\n",
       "    </tr>\n",
       "    <tr>\n",
       "      <th>2784532</th>\n",
       "      <td>2</td>\n",
       "      <td>4</td>\n",
       "      <td>20061010</td>\n",
       "      <td>TO</td>\n",
       "      <td>A008</td>\n",
       "    </tr>\n",
       "    <tr>\n",
       "      <th>2784533</th>\n",
       "      <td>2</td>\n",
       "      <td>4</td>\n",
       "      <td>20061010</td>\n",
       "      <td>TO</td>\n",
       "      <td>A031</td>\n",
       "    </tr>\n",
       "    <tr>\n",
       "      <th>2784534</th>\n",
       "      <td>2</td>\n",
       "      <td>2</td>\n",
       "      <td>20061204</td>\n",
       "      <td>TO</td>\n",
       "      <td>A011</td>\n",
       "    </tr>\n",
       "    <tr>\n",
       "      <th>2784535</th>\n",
       "      <td>2</td>\n",
       "      <td>1</td>\n",
       "      <td>20061227</td>\n",
       "      <td>TO</td>\n",
       "      <td>D001</td>\n",
       "    </tr>\n",
       "    <tr>\n",
       "      <th>2784536</th>\n",
       "      <td>2</td>\n",
       "      <td>1</td>\n",
       "      <td>20061010</td>\n",
       "      <td>TO</td>\n",
       "      <td>A005</td>\n",
       "    </tr>\n",
       "  </tbody>\n",
       "</table>\n",
       "<p>24868204 rows × 5 columns</p>\n",
       "</div>"
      ],
      "text/plain": [
       "         sexo  raca      data estado idade\n",
       "0           2     4  20070212   21.0  4032\n",
       "1           2     4  20070212   21.0  4017\n",
       "2           1     1  20070226   26.0  4033\n",
       "3           2     1  20070212   29.0  3004\n",
       "4           1     4  20070207   29.0  4009\n",
       "...       ...   ...       ...    ...   ...\n",
       "2784532     2     4  20061010     TO  A008\n",
       "2784533     2     4  20061010     TO  A031\n",
       "2784534     2     2  20061204     TO  A011\n",
       "2784535     2     1  20061227     TO  D001\n",
       "2784536     2     1  20061010     TO  A005\n",
       "\n",
       "[24868204 rows x 5 columns]"
      ]
     },
     "execution_count": 350,
     "metadata": {},
     "output_type": "execute_result"
    }
   ],
   "source": [
    "df"
   ]
  },
  {
   "cell_type": "code",
   "execution_count": 351,
   "metadata": {
    "vscode": {
     "languageId": "javascript"
    }
   },
   "outputs": [
    {
     "data": {
      "text/plain": [
       "array([21.0, 26.0, 29.0, 33.0, 17.0, 27.0, 31.0, 32.0, 25.0, 24.0, 13.0,\n",
       "       23.0, 22.0, 15.0, 11.0, 14.0, 28.0, 16.0, 12.0, nan, 51, 42, 52,\n",
       "       35, 41, 50, 53, 43, '31', '25', '13', '28', '33', '23', '21', '24',\n",
       "       '16', '27', '26', '12', '29', '32', '17', '14', '22', '15', '11',\n",
       "       's\"', 'AC', 'AL', 'AM', 'BA', 'CE', 'DF', 'ES', 'GO', 'MA', 'MG',\n",
       "       'MS', 'MT', 'PA', 'PB', 'PE', 'PI', 'PR', 'RJ', 'RN', 'RO', 'RR',\n",
       "       'RS', 'SC', 'SE', 'SP', 'TO', 'AP'], dtype=object)"
      ]
     },
     "execution_count": 351,
     "metadata": {},
     "output_type": "execute_result"
    }
   ],
   "source": [
    "df['estado'].unique()"
   ]
  },
  {
   "cell_type": "code",
   "execution_count": 352,
   "metadata": {},
   "outputs": [
    {
     "data": {
      "text/plain": [
       "array([21, 26, 29, 33, 17, 27, 31, 32, 25, 24, 13, 23, 22, 15, 11, 14, 28,\n",
       "       16, 12,  0, 51, 42, 52, 35, 41, 50, 53, 43])"
      ]
     },
     "execution_count": 352,
     "metadata": {},
     "output_type": "execute_result"
    }
   ],
   "source": [
    "df['estado'] = df['estado'].replace(uf_codes).fillna(0).replace({np.nan: 0, 's\"': 0}).astype(np.int64)\n",
    "df['estado'].unique()"
   ]
  },
  {
   "cell_type": "code",
   "execution_count": 353,
   "metadata": {},
   "outputs": [
    {
     "data": {
      "text/html": [
       "<div>\n",
       "<style scoped>\n",
       "    .dataframe tbody tr th:only-of-type {\n",
       "        vertical-align: middle;\n",
       "    }\n",
       "\n",
       "    .dataframe tbody tr th {\n",
       "        vertical-align: top;\n",
       "    }\n",
       "\n",
       "    .dataframe thead th {\n",
       "        text-align: right;\n",
       "    }\n",
       "</style>\n",
       "<table border=\"1\" class=\"dataframe\">\n",
       "  <thead>\n",
       "    <tr style=\"text-align: right;\">\n",
       "      <th></th>\n",
       "      <th>sexo</th>\n",
       "      <th>raca</th>\n",
       "      <th>data</th>\n",
       "      <th>estado</th>\n",
       "      <th>idade</th>\n",
       "    </tr>\n",
       "  </thead>\n",
       "  <tbody>\n",
       "    <tr>\n",
       "      <th>0</th>\n",
       "      <td>2</td>\n",
       "      <td>4</td>\n",
       "      <td>20070212</td>\n",
       "      <td>21</td>\n",
       "      <td>4032</td>\n",
       "    </tr>\n",
       "    <tr>\n",
       "      <th>1</th>\n",
       "      <td>2</td>\n",
       "      <td>4</td>\n",
       "      <td>20070212</td>\n",
       "      <td>21</td>\n",
       "      <td>4017</td>\n",
       "    </tr>\n",
       "    <tr>\n",
       "      <th>2</th>\n",
       "      <td>1</td>\n",
       "      <td>1</td>\n",
       "      <td>20070226</td>\n",
       "      <td>26</td>\n",
       "      <td>4033</td>\n",
       "    </tr>\n",
       "    <tr>\n",
       "      <th>3</th>\n",
       "      <td>2</td>\n",
       "      <td>1</td>\n",
       "      <td>20070212</td>\n",
       "      <td>29</td>\n",
       "      <td>3004</td>\n",
       "    </tr>\n",
       "    <tr>\n",
       "      <th>4</th>\n",
       "      <td>1</td>\n",
       "      <td>4</td>\n",
       "      <td>20070207</td>\n",
       "      <td>29</td>\n",
       "      <td>4009</td>\n",
       "    </tr>\n",
       "    <tr>\n",
       "      <th>...</th>\n",
       "      <td>...</td>\n",
       "      <td>...</td>\n",
       "      <td>...</td>\n",
       "      <td>...</td>\n",
       "      <td>...</td>\n",
       "    </tr>\n",
       "    <tr>\n",
       "      <th>2784532</th>\n",
       "      <td>2</td>\n",
       "      <td>4</td>\n",
       "      <td>20061010</td>\n",
       "      <td>17</td>\n",
       "      <td>A008</td>\n",
       "    </tr>\n",
       "    <tr>\n",
       "      <th>2784533</th>\n",
       "      <td>2</td>\n",
       "      <td>4</td>\n",
       "      <td>20061010</td>\n",
       "      <td>17</td>\n",
       "      <td>A031</td>\n",
       "    </tr>\n",
       "    <tr>\n",
       "      <th>2784534</th>\n",
       "      <td>2</td>\n",
       "      <td>2</td>\n",
       "      <td>20061204</td>\n",
       "      <td>17</td>\n",
       "      <td>A011</td>\n",
       "    </tr>\n",
       "    <tr>\n",
       "      <th>2784535</th>\n",
       "      <td>2</td>\n",
       "      <td>1</td>\n",
       "      <td>20061227</td>\n",
       "      <td>17</td>\n",
       "      <td>D001</td>\n",
       "    </tr>\n",
       "    <tr>\n",
       "      <th>2784536</th>\n",
       "      <td>2</td>\n",
       "      <td>1</td>\n",
       "      <td>20061010</td>\n",
       "      <td>17</td>\n",
       "      <td>A005</td>\n",
       "    </tr>\n",
       "  </tbody>\n",
       "</table>\n",
       "<p>24868204 rows × 5 columns</p>\n",
       "</div>"
      ],
      "text/plain": [
       "         sexo  raca      data  estado idade\n",
       "0           2     4  20070212      21  4032\n",
       "1           2     4  20070212      21  4017\n",
       "2           1     1  20070226      26  4033\n",
       "3           2     1  20070212      29  3004\n",
       "4           1     4  20070207      29  4009\n",
       "...       ...   ...       ...     ...   ...\n",
       "2784532     2     4  20061010      17  A008\n",
       "2784533     2     4  20061010      17  A031\n",
       "2784534     2     2  20061204      17  A011\n",
       "2784535     2     1  20061227      17  D001\n",
       "2784536     2     1  20061010      17  A005\n",
       "\n",
       "[24868204 rows x 5 columns]"
      ]
     },
     "execution_count": 353,
     "metadata": {},
     "output_type": "execute_result"
    }
   ],
   "source": [
    "df"
   ]
  },
  {
   "cell_type": "code",
   "execution_count": 354,
   "metadata": {},
   "outputs": [
    {
     "name": "stdout",
     "output_type": "stream",
     "text": [
      "[4032, 4017, 4033, 3004, 4009, 4015, 4034, 4006, 4019, 4022, 4026, 4025, 4007, 4031, 4064, 4005, 4012, 3002, 4045, 4072, 4018, 4001, 4035, 4030, 4016, 4013, 4048, 4054, 4042, 4020, 4023, 4080, 4047, 4027, 4057, 4049, 4046, 4063, 4056, 4053, 4011, 4003, 4008, 4010, 4051, 4039, 4040, 4002, 4029, 4043, 4058, 4060, 4038, 4055, 4062, 4075, 4068, 4037, 4024, 4004, 4044, 4071, 4028, 4036, 4066, 4059, 4061, 4070, 4050, 4014, 4041, 4021, 4065, 4052, 3006, 4069, 3011, 4067, 4079, 2000, 3009, 3005, 4074, 3007, 4086, 3008, 3003, 3010, 2005, 4077, 4084, 4085, 4076, 4078, 4081, 4091, 2019, 4089, 4083, 2012, 4073, 2006, 2007, 2003, 4094, 4088, 2001, 1023, 4087, 3001, 4082, 1000, 2002, 4098, 47, 2015, 2004, 2014, 2011, 4090, 4093, 4000, 2024, 1029, 4095, 2009, 2027, 2025, 4099, 4100, 2010, 4096, 2026, 1014, 4092, 4106, 2008, 4097, 2028, 2016, 2021, 4101, 2020, 2013, 4116, 2023, 4102, 2017, 4153, 2022, 4107, 1001, 1022, 4105, 1013, 4146, 4133, 1020, 3, 36, 30, 2018, 4103, 3013, 3015, 4117, 4119, 4104, 22, 3012, 2029, 4120, 3016, 2042, 1015, 1021, 1034, 1002, 3030, 23, 1004, 1006, 15, 4111, 3070, 9062, 3031, 4150, 3054, 1007, 56, 3035, 3017, 2030, 3036, 6, 3022, 4122, 3000, 4125, 3028, 2045, 2999, 4123, 4108, 2044, 3040, 4118, 4121, 4110, 3029, 4124, 3073, 4126, 3026, 1043, 4130, 3032, 2031, 4131, 3041, 4109, 1018, 3044, 3027, 3048, 3023, 2037, 2039, 3067, 3039, 4114, 1005, 1008, 16, 3047, 2046, 3037, 3051, 52, 34, 63, 5, 14, 44, 3020, 3021, 3052, 3056, 3050, 3063, 3062, 3057, 3018, 3055, 3069, 3071, 2055, 4180, 1048, 1074, 2073, 4200, 4127, 4208, 4128, 3060, 31, 3042, 13, 1017, 1010, 3014, 3019, 2035, 4134, 4115, 2038, '4011', '4016', '4028', '4034', '4056', '4022', '4030', '4026', '4012', '4040', '4015', '4058', '4013', '4041', '4052', '2000', '4049', '4024', '4059', '4025', '4017', '4014', '4039', '4037', '4006', '4018', '4057', '4021', '4062', '4051', '4053', '4029', '4035', '4063', '4019', '4031', '4047', '4060', '4008', '4020', '4038', '4045', '4043', '4023', '4002', '4044', '4004', '4036', '4048', '4003', '4032', '2001', '4010', '4042', '4068', '4054', '4009', '4005', '4027', '4033', '4050', '4007', '3010', '4001', '4069', '4061', '4072', '4046', '3009', '3008', '4071', '3011', '4073', '4074', '4064', '4055', '3006', '4087', '2017', '4075', '3003', '3005', '4082', '3002', '4066', '2027', '3001', '2006', '4070', '4065', '2013', '4000', '4076', '4067', '2002', '4083', '4084', '4079', '4081', '2025', '4078', '3004', '4080', '4093', '2016', '2007', '4091', '2012', '2024', '4077', '2003', '3007', '2026', '4085', '2023', '4088', '2010', '4092', '55', '2028', '4123', '4120', '4090', '2014', '2019', '4086', '4127', '4089', '4097', '1023', '1000', '4095', '2021', '2034', '2004', '4094', '4098', '4099', '4107', '2063', '4 52', '3039', '2018', '3074', '2011', '4125', '4108', '2005', '3079', '3013', '2020', '4096', '2029', '2022', '2009', '4102', '57', '2', '4126', '2008', '2015', '1004', '1003', '2036', '4121', '1002', '4103', '3031', '3036', '3029', '4168', '3027', '2030', '1020', '3021', '3038', '3014', '3016', '3022', '2041', '3019', '3020', '2031', '3068', '3023', 2050, 3034, 3033, 3049, 3045, 3043, 2036, 3066, 2058, 41, 2068, 2040, 3046, 4112, 3025, 2064, 3024, 2048, 4, 7, 3038, 2067, 3068, 2057, 2090, 2056, 2033, 2066, 2069, 2051, 2043, 2034, 2049, 2059, 3074, 2052, 2047, 2060, 3058, 2041, 2063, 3053, 2053, 1003, 3059, 2065, 2085, 2032, 524, 2054, 1012, 3077, 1016, 2070, 2072, 3084, 2082, 2062, 3061, 3072, 1019, 2076, 3064, 3082, 3065, 2061, 2075, 1036, 4402, 2077, 1009, 2074, 3075, 3086, 3076, 2098, 4113, 2088, 25, 2078, 2081, 3079, 3081, 2, 2079, 3087, 3080, 3078, 2091, 0, 4405, 4404, 2099, 3083, 1031, 11, 4400, 2080, 4401, 3088, 20, 4403, 24, 4440, 12, 1053, 4409, 1011, 2086, 10, 1058, 1026, 8, 3091, 65, 80, 1077, 18, 3330, 3300, 9, 33, 4442, 4533, 4393, 4406, 4407, 62, 40, 4704, 4936, 32, 58, 4501, 4144, 4769, 4444, 1066, 1057, 67.0, nan, 82.0, 49, 4312, 28, 4410, 38, 4814, 3301, 17, 4408, 4999, 4684, 61, 45, 19, 51, 57, 84, 69, 43, 68, 4663, 35, 42, 4603, 1, 88, 39, 72, 1046, 1040, 4322, 2093, 4815, 50, 64, 75, 46, 4340, 4606, 1120, 27, 2120, 4412, 55, 29, 54, 37, 48, 1100, 26, 1028, 3251, 60, 4515, 4181, 70, 1076, 53, 21, 1045, 1035, 1038, 4354, 1037, 1032, 4143, 4215, 1055, 1052, 59, 1075, 1039, 79, 2222, 74, 81, 71, 1099, 66, 4417, 4253, 4195, 4347, 4416, 1070, 4396, 4302, 4201, 1033, 4662, 1042, 1105, 1064, 1062, 4274, 1051, 1054, 1047, 4748, 2200, 1024, 402, 4219, 1025, 73, 4210, 2087, 87, 1044, 1027.0, 1069, 1084, 1056, 1050, 1030, 1065, 4372, 4820, 3097, 1061, 76, 3085, 3303, 4271, 3206, 3111, 4907, 95, 86, 3302, 91, 4519, 4523, 4225, 4827, 4168, 89, 1067, 1059, 1060, 1080, 1071, 1041, 4161, 1073, 4221, 92, 4437, 4585, 85, 1063, 77, 78, 4568, 4224, 83, 4247, 1072, 2071, 3090, 'A046', 'A023', 'A020', 'A030', 'A008', 'A021', 'A024', 'A025', 'A057', 'A055', 'A006', 'A040', 'A035', 'A031', 'A032', 'A009', 'A027', 'A043', 'M011', 'A022', 'A056', 'A036', 'A018', 'A017', 'A047', 'A076', 'A028', 'A034', 'A049', 'A038', 'A029', 'A026', 'A015', 'A058', 'A016', 'A004', 'A060', 'A063', 'A003', 'A071', 'A045', 'A011', 'A007', 'A041', 'A013', 'A051', 'A044', 'A052', 'M009', 'A059', 'A019', 'A050', 'A005', 'M004', 'A033', 'A068', 'A037', 'M007', 'A048', 'A039', 'A042', 'A070', 'A054', 'A012', 'A014', 'A001', 'A010', 'A062', 'M001', 'A053', 'A075', 'M005', 'M006', 'A065', 'M002', 'A073', 'A002', 'A067', 'A066', 'M003', 'A069', 'A061', 'M008', 'M010', 'D001', 'A064', 'A080', 'A077', 'A072', 'A081', 'A083', 'A079', 'A074', 'D003', 'A084', 'A087', 'A078', 'A091', 'A082', 'A092', 'D018', 'A085', 'A088', 'A095', 'A089', 'A086', 'A090', 'D028', 'A093', 'D005', 'D027', 'D007', 'A098', 'D002', 'D017', 'M018', 'D021', 'D008', 'D023', 'D024', 'D004', 'A097', 'D029', 'D010', 'A099', 'A114', 'D013', 'A094', 'D006', 'D014', 'A113', 'D026', 'D012', 'A100', 'A112', 'A096', 'M015', 'M016', 'M035', 'M034', 'A118', 'A120', 'M099', 'D009', 'D019', 'M038', 'D022', 'M065', 'D020', 'A117', 'D015', 'D011', 'M014', 'D025', 'D016', 'M019', 'A102', 'I999', 'D074', 'A101', 'A000', '5515', '9393', '1010', '6262', '5444', '3232', '3030', '5151', '6464', '4242', '7071', '8085', '1111', '3032', '9595', 'I000', '5353', '7474', 'M031', '1015', '5454', 'M036', 'A585', 'A999', 'D036', '0003', 'A104', 'A232', '2323', '3033', 'D035', '0202', 'D080', 'D373', '9099', 'A339', 'I100', '7077', 'D151', 'D039', 'M026', 'M013', 'D030', 'M041', 'M017', 'M030', 'M039', 'M023', 'M021', 'M020', 'M029', 'D053', 'A119', 'M051', 'D078', 'M012', 'D049', 'D031', 'D033', '6002', 'A110', 'M045', 'M050', 'A108', 'M032', 'A115', '2188', '4444', 'M263', '2181', 'D034', 'D037', 'A253', 'D040', '5373', '4A02', '9A04', '1A01', '4A03', '2A02', '5A00', '0A04', '7A00', '2A03', '5A05', '0A05', '2037', 'A444', '9A02', '6A03', '5A01', '9059', 'A599', 'M040', '5252', 'D041', 'M022', 'M027', 'M024', 'D082', 'A116', 'A103', 'M059', 'A105', 'D064', 'D047', 'M060', 'D072', 'M047', 'M055', 'D099', 'M049', '7103', '9003', '1102', 'M043', 'D068', 'D069', '2100', '0072', 'I099', 'D042', 'A121', 'M070', '7101', 'D048', '8002', '3180', 'D000', '7004', '8000', 'D043', 'D144', 'M057', 'M053', 'M025', 'A107', '6000', '8180', '0005', 'M028', 'A109', 'M048', '0A03', '0A02', '3A03', '8A05', '6A02', 'M066', '1005', '9002', '5001', 'M046']\n"
     ]
    }
   ],
   "source": [
    "unique_idades = df['idade'].unique().tolist()\n",
    "print(unique_idades)"
   ]
  },
  {
   "cell_type": "code",
   "execution_count": 355,
   "metadata": {},
   "outputs": [
    {
     "name": "stdout",
     "output_type": "stream",
     "text": [
      "<class 'pandas.core.series.Series'>\n",
      "Index: 24868204 entries, 0 to 2784536\n",
      "Series name: idade\n",
      "Non-Null Count     Dtype \n",
      "--------------     ----- \n",
      "24796017 non-null  object\n",
      "dtypes: object(1)\n",
      "memory usage: 379.5+ MB\n"
     ]
    }
   ],
   "source": [
    "df['idade'].info()"
   ]
  },
  {
   "cell_type": "code",
   "execution_count": 356,
   "metadata": {},
   "outputs": [
    {
     "name": "stdout",
     "output_type": "stream",
     "text": [
      "['A046', 'A023', 'A020', 'A030', 'A008', 'A021', 'A024', 'A025', 'A057', 'A055', 'A006', 'A040', 'A035', 'A031', 'A032', 'A009', 'A027', 'A043', 'M011', 'A022', 'A056', 'A036', 'A018', 'A017', 'A047', 'A076', 'A028', 'A034', 'A049', 'A038', 'A029', 'A026', 'A015', 'A058', 'A016', 'A004', 'A060', 'A063', 'A003', 'A071', 'A045', 'A011', 'A007', 'A041', 'A013', 'A051', 'A044', 'A052', 'M009', 'A059', 'A019', 'A050', 'A005', 'M004', 'A033', 'A068', 'A037', 'M007', 'A048', 'A039', 'A042', 'A070', 'A054', 'A012', 'A014', 'A001', 'A010', 'A062', 'M001', 'A053', 'A075', 'M005', 'M006', 'A065', 'M002', 'A073', 'A002', 'A067', 'A066', 'M003', 'A069', 'A061', 'M008', 'M010', 'D001', 'A064', 'A080', 'A077', 'A072', 'A081', 'A083', 'A079', 'A074', 'D003', 'A084', 'A087', 'A078', 'A091', 'A082', 'A092', 'D018', 'A085', 'A088', 'A095', 'A089', 'A086', 'A090', 'D028', 'A093', 'D005', 'D027', 'D007', 'A098', 'D002', 'D017', 'M018', 'D021', 'D008', 'D023', 'D024', 'D004', 'A097', 'D029', 'D010', 'A099', 'A114', 'D013', 'A094', 'D006', 'D014', 'A113', 'D026', 'D012', 'A100', 'A112', 'A096', 'M015', 'M016', 'M035', 'M034', 'A118', 'A120', 'M099', 'D009', 'D019', 'M038', 'D022', 'M065', 'D020', 'A117', 'D015', 'D011', 'M014', 'D025', 'D016', 'M019', 'A102', 'I999', 'D074', 'A101', 'A000', 'I000', 'M031', 'M036', 'A585', 'A999', 'D036', 'A104', 'A232', 'D035', 'D080', 'D373', 'A339', 'I100', 'D151', 'D039', 'M026', 'M013', 'D030', 'M041', 'M017', 'M030', 'M039', 'M023', 'M021', 'M020', 'M029', 'D053', 'A119', 'M051', 'D078', 'M012', 'D049', 'D031', 'D033', 'A110', 'M045', 'M050', 'A108', 'M032', 'A115', 'M263', 'D034', 'D037', 'A253', 'D040', '4A02', '9A04', '1A01', '4A03', '2A02', '5A00', '0A04', '7A00', '2A03', '5A05', '0A05', 'A444', '9A02', '6A03', '5A01', 'A599', 'M040', 'D041', 'M022', 'M027', 'M024', 'D082', 'A116', 'A103', 'M059', 'A105', 'D064', 'D047', 'M060', 'D072', 'M047', 'M055', 'D099', 'M049', 'M043', 'D068', 'D069', 'I099', 'D042', 'A121', 'M070', 'D048', 'D000', 'D043', 'D144', 'M057', 'M053', 'M025', 'A107', 'M028', 'A109', 'M048', '0A03', '0A02', '3A03', '8A05', '6A02', 'M066', 'M046']\n"
     ]
    }
   ],
   "source": [
    "import re\n",
    "\n",
    "# Define a regex pattern to match strings with a letter in the middle\n",
    "pattern = re.compile(r'^\\d*[A-Za-z]+\\d*$')\n",
    "\n",
    "# Find all values in unique_idades that match the pattern\n",
    "matches = [idade for idade in unique_idades if isinstance(idade, str) and pattern.search(idade)]\n",
    "\n",
    "print(matches)"
   ]
  },
  {
   "cell_type": "code",
   "execution_count": 357,
   "metadata": {},
   "outputs": [
    {
     "data": {
      "text/plain": [
       "array([ 32,  17,  33,   0,   9,  15,  34,   6,  19,  22,  26,  25,   7,\n",
       "        31,  64,   5,  12,  45,  72,  18,   1,  35,  30,  16,  13,  48,\n",
       "        54,  42,  20,  23,  80,  47,  27,  57,  49,  46,  63,  56,  53,\n",
       "        11,   3,   8,  10,  51,  39,  40,   2,  29,  43,  58,  60,  38,\n",
       "        55,  62,  75,  68,  37,  24,   4,  44,  71,  28,  36,  66,  59,\n",
       "        61,  70,  50,  14,  41,  21,  65,  52,  69,  67,  79,  74,  86,\n",
       "        77,  84,  85,  76,  78,  81,  91,  89,  83,  73,  94,  88,  87,\n",
       "        82,  98,  90,  93,  95,  99, 100,  96,  92, 106,  97, 101, 116,\n",
       "       102, 107, 105, 103, 117, 119, 104, 120, 111, 108, 118, 110, 109,\n",
       "       114, 115, 112, 113])"
      ]
     },
     "execution_count": 357,
     "metadata": {},
     "output_type": "execute_result"
    }
   ],
   "source": [
    "# Replace NaN values with 30\n",
    "df['idade'] = df['idade'].replace(np.nan, 30)\n",
    "\n",
    "def remove_first_char(x):\n",
    "    if isinstance(x, int):\n",
    "        \n",
    "        if x < 4000: ## Less than one year old\n",
    "            return str(0)\n",
    "\n",
    "        x = str(x)\n",
    "\n",
    "    if isinstance(x, str) and len(x) >= 4:\n",
    "        x = x[1:]\n",
    "        if x[0].isalpha():\n",
    "            x = x[1:]\n",
    "\n",
    "    return x\n",
    "\n",
    "# Remove the first character if the string has more than 4 characters\n",
    "df['idade'] = df['idade'].apply(remove_first_char)\n",
    "\n",
    "# Convert all values to np.int64\n",
    "df['idade'] = df['idade'].astype(np.int64)\n",
    "\n",
    "# Set values greater than 120 to 0\n",
    "df['idade'] = df['idade'].apply(lambda x: 0 if x > 120 else x)\n",
    "\n",
    "# Display the unique values to verify the transformation\n",
    "df['idade'].unique()"
   ]
  },
  {
   "cell_type": "code",
   "execution_count": 358,
   "metadata": {},
   "outputs": [
    {
     "data": {
      "text/html": [
       "<div>\n",
       "<style scoped>\n",
       "    .dataframe tbody tr th:only-of-type {\n",
       "        vertical-align: middle;\n",
       "    }\n",
       "\n",
       "    .dataframe tbody tr th {\n",
       "        vertical-align: top;\n",
       "    }\n",
       "\n",
       "    .dataframe thead th {\n",
       "        text-align: right;\n",
       "    }\n",
       "</style>\n",
       "<table border=\"1\" class=\"dataframe\">\n",
       "  <thead>\n",
       "    <tr style=\"text-align: right;\">\n",
       "      <th></th>\n",
       "      <th>sexo</th>\n",
       "      <th>raca</th>\n",
       "      <th>data</th>\n",
       "      <th>estado</th>\n",
       "      <th>idade</th>\n",
       "    </tr>\n",
       "  </thead>\n",
       "  <tbody>\n",
       "    <tr>\n",
       "      <th>0</th>\n",
       "      <td>2</td>\n",
       "      <td>4</td>\n",
       "      <td>20070212</td>\n",
       "      <td>21</td>\n",
       "      <td>32</td>\n",
       "    </tr>\n",
       "    <tr>\n",
       "      <th>1</th>\n",
       "      <td>2</td>\n",
       "      <td>4</td>\n",
       "      <td>20070212</td>\n",
       "      <td>21</td>\n",
       "      <td>17</td>\n",
       "    </tr>\n",
       "    <tr>\n",
       "      <th>2</th>\n",
       "      <td>1</td>\n",
       "      <td>1</td>\n",
       "      <td>20070226</td>\n",
       "      <td>26</td>\n",
       "      <td>33</td>\n",
       "    </tr>\n",
       "    <tr>\n",
       "      <th>3</th>\n",
       "      <td>2</td>\n",
       "      <td>1</td>\n",
       "      <td>20070212</td>\n",
       "      <td>29</td>\n",
       "      <td>0</td>\n",
       "    </tr>\n",
       "    <tr>\n",
       "      <th>4</th>\n",
       "      <td>1</td>\n",
       "      <td>4</td>\n",
       "      <td>20070207</td>\n",
       "      <td>29</td>\n",
       "      <td>9</td>\n",
       "    </tr>\n",
       "    <tr>\n",
       "      <th>...</th>\n",
       "      <td>...</td>\n",
       "      <td>...</td>\n",
       "      <td>...</td>\n",
       "      <td>...</td>\n",
       "      <td>...</td>\n",
       "    </tr>\n",
       "    <tr>\n",
       "      <th>2784532</th>\n",
       "      <td>2</td>\n",
       "      <td>4</td>\n",
       "      <td>20061010</td>\n",
       "      <td>17</td>\n",
       "      <td>8</td>\n",
       "    </tr>\n",
       "    <tr>\n",
       "      <th>2784533</th>\n",
       "      <td>2</td>\n",
       "      <td>4</td>\n",
       "      <td>20061010</td>\n",
       "      <td>17</td>\n",
       "      <td>31</td>\n",
       "    </tr>\n",
       "    <tr>\n",
       "      <th>2784534</th>\n",
       "      <td>2</td>\n",
       "      <td>2</td>\n",
       "      <td>20061204</td>\n",
       "      <td>17</td>\n",
       "      <td>11</td>\n",
       "    </tr>\n",
       "    <tr>\n",
       "      <th>2784535</th>\n",
       "      <td>2</td>\n",
       "      <td>1</td>\n",
       "      <td>20061227</td>\n",
       "      <td>17</td>\n",
       "      <td>1</td>\n",
       "    </tr>\n",
       "    <tr>\n",
       "      <th>2784536</th>\n",
       "      <td>2</td>\n",
       "      <td>1</td>\n",
       "      <td>20061010</td>\n",
       "      <td>17</td>\n",
       "      <td>5</td>\n",
       "    </tr>\n",
       "  </tbody>\n",
       "</table>\n",
       "<p>24868204 rows × 5 columns</p>\n",
       "</div>"
      ],
      "text/plain": [
       "         sexo  raca      data  estado  idade\n",
       "0           2     4  20070212      21     32\n",
       "1           2     4  20070212      21     17\n",
       "2           1     1  20070226      26     33\n",
       "3           2     1  20070212      29      0\n",
       "4           1     4  20070207      29      9\n",
       "...       ...   ...       ...     ...    ...\n",
       "2784532     2     4  20061010      17      8\n",
       "2784533     2     4  20061010      17     31\n",
       "2784534     2     2  20061204      17     11\n",
       "2784535     2     1  20061227      17      1\n",
       "2784536     2     1  20061010      17      5\n",
       "\n",
       "[24868204 rows x 5 columns]"
      ]
     },
     "execution_count": 358,
     "metadata": {},
     "output_type": "execute_result"
    }
   ],
   "source": [
    "df"
   ]
  },
  {
   "cell_type": "code",
   "execution_count": 359,
   "metadata": {},
   "outputs": [
    {
     "data": {
      "text/plain": [
       "idade\n",
       "0      766504\n",
       "1      217863\n",
       "2      189078\n",
       "3      200118\n",
       "4      218879\n",
       "        ...  \n",
       "116        72\n",
       "117        28\n",
       "118        27\n",
       "119        82\n",
       "120      1792\n",
       "Name: idade, Length: 121, dtype: int64"
      ]
     },
     "execution_count": 359,
     "metadata": {},
     "output_type": "execute_result"
    }
   ],
   "source": [
    "df[\"idade\"].groupby(df[\"idade\"]).count()"
   ]
  },
  {
   "cell_type": "code",
   "execution_count": 360,
   "metadata": {},
   "outputs": [
    {
     "name": "stdout",
     "output_type": "stream",
     "text": [
      "<class 'pandas.core.series.Series'>\n",
      "Index: 24868204 entries, 0 to 2784536\n",
      "Series name: data\n",
      "Non-Null Count     Dtype \n",
      "--------------     ----- \n",
      "24868204 non-null  object\n",
      "dtypes: object(1)\n",
      "memory usage: 379.5+ MB\n"
     ]
    }
   ],
   "source": [
    "df[\"data\"].info()"
   ]
  },
  {
   "cell_type": "code",
   "execution_count": 361,
   "metadata": {},
   "outputs": [
    {
     "data": {
      "text/html": [
       "<div>\n",
       "<style scoped>\n",
       "    .dataframe tbody tr th:only-of-type {\n",
       "        vertical-align: middle;\n",
       "    }\n",
       "\n",
       "    .dataframe tbody tr th {\n",
       "        vertical-align: top;\n",
       "    }\n",
       "\n",
       "    .dataframe thead th {\n",
       "        text-align: right;\n",
       "    }\n",
       "</style>\n",
       "<table border=\"1\" class=\"dataframe\">\n",
       "  <thead>\n",
       "    <tr style=\"text-align: right;\">\n",
       "      <th></th>\n",
       "      <th>sexo</th>\n",
       "      <th>raca</th>\n",
       "      <th>estado</th>\n",
       "      <th>idade</th>\n",
       "    </tr>\n",
       "    <tr>\n",
       "      <th>data</th>\n",
       "      <th></th>\n",
       "      <th></th>\n",
       "      <th></th>\n",
       "      <th></th>\n",
       "    </tr>\n",
       "  </thead>\n",
       "  <tbody>\n",
       "    <tr>\n",
       "      <th>2007-02-12</th>\n",
       "      <td>2</td>\n",
       "      <td>4</td>\n",
       "      <td>21</td>\n",
       "      <td>32</td>\n",
       "    </tr>\n",
       "    <tr>\n",
       "      <th>2007-02-12</th>\n",
       "      <td>2</td>\n",
       "      <td>4</td>\n",
       "      <td>21</td>\n",
       "      <td>17</td>\n",
       "    </tr>\n",
       "    <tr>\n",
       "      <th>2007-02-26</th>\n",
       "      <td>1</td>\n",
       "      <td>1</td>\n",
       "      <td>26</td>\n",
       "      <td>33</td>\n",
       "    </tr>\n",
       "    <tr>\n",
       "      <th>2007-02-12</th>\n",
       "      <td>2</td>\n",
       "      <td>1</td>\n",
       "      <td>29</td>\n",
       "      <td>0</td>\n",
       "    </tr>\n",
       "    <tr>\n",
       "      <th>2007-02-07</th>\n",
       "      <td>1</td>\n",
       "      <td>4</td>\n",
       "      <td>29</td>\n",
       "      <td>9</td>\n",
       "    </tr>\n",
       "  </tbody>\n",
       "</table>\n",
       "</div>"
      ],
      "text/plain": [
       "            sexo  raca  estado  idade\n",
       "data                                 \n",
       "2007-02-12     2     4      21     32\n",
       "2007-02-12     2     4      21     17\n",
       "2007-02-26     1     1      26     33\n",
       "2007-02-12     2     1      29      0\n",
       "2007-02-07     1     4      29      9"
      ]
     },
     "execution_count": 361,
     "metadata": {},
     "output_type": "execute_result"
    }
   ],
   "source": [
    "# Convert 'data' column to datetime, coerce errors to NaT\n",
    "df['data'] = pd.to_datetime(df['data'], format='%Y%m%d', errors='coerce')\n",
    "\n",
    "# Remove rows with NaT in 'data' column\n",
    "df = df.dropna(subset=['data'])\n",
    "\n",
    "# Set 'data' column as index\n",
    "df.set_index('data', inplace=True)\n",
    "\n",
    "# Display the first few rows to verify\n",
    "df.head()"
   ]
  },
  {
   "cell_type": "code",
   "execution_count": 362,
   "metadata": {},
   "outputs": [
    {
     "data": {
      "text/html": [
       "<div>\n",
       "<style scoped>\n",
       "    .dataframe tbody tr th:only-of-type {\n",
       "        vertical-align: middle;\n",
       "    }\n",
       "\n",
       "    .dataframe tbody tr th {\n",
       "        vertical-align: top;\n",
       "    }\n",
       "\n",
       "    .dataframe thead th {\n",
       "        text-align: right;\n",
       "    }\n",
       "</style>\n",
       "<table border=\"1\" class=\"dataframe\">\n",
       "  <thead>\n",
       "    <tr style=\"text-align: right;\">\n",
       "      <th></th>\n",
       "      <th>sexo</th>\n",
       "      <th>raca</th>\n",
       "      <th>estado</th>\n",
       "      <th>idade</th>\n",
       "    </tr>\n",
       "    <tr>\n",
       "      <th>data</th>\n",
       "      <th></th>\n",
       "      <th></th>\n",
       "      <th></th>\n",
       "      <th></th>\n",
       "    </tr>\n",
       "  </thead>\n",
       "  <tbody>\n",
       "    <tr>\n",
       "      <th>2007-02-12</th>\n",
       "      <td>2</td>\n",
       "      <td>4</td>\n",
       "      <td>21</td>\n",
       "      <td>32</td>\n",
       "    </tr>\n",
       "    <tr>\n",
       "      <th>2007-02-12</th>\n",
       "      <td>2</td>\n",
       "      <td>4</td>\n",
       "      <td>21</td>\n",
       "      <td>17</td>\n",
       "    </tr>\n",
       "    <tr>\n",
       "      <th>2007-02-26</th>\n",
       "      <td>1</td>\n",
       "      <td>1</td>\n",
       "      <td>26</td>\n",
       "      <td>33</td>\n",
       "    </tr>\n",
       "    <tr>\n",
       "      <th>2007-02-12</th>\n",
       "      <td>2</td>\n",
       "      <td>1</td>\n",
       "      <td>29</td>\n",
       "      <td>0</td>\n",
       "    </tr>\n",
       "    <tr>\n",
       "      <th>2007-02-07</th>\n",
       "      <td>1</td>\n",
       "      <td>4</td>\n",
       "      <td>29</td>\n",
       "      <td>9</td>\n",
       "    </tr>\n",
       "    <tr>\n",
       "      <th>...</th>\n",
       "      <td>...</td>\n",
       "      <td>...</td>\n",
       "      <td>...</td>\n",
       "      <td>...</td>\n",
       "    </tr>\n",
       "    <tr>\n",
       "      <th>2006-10-10</th>\n",
       "      <td>2</td>\n",
       "      <td>4</td>\n",
       "      <td>17</td>\n",
       "      <td>8</td>\n",
       "    </tr>\n",
       "    <tr>\n",
       "      <th>2006-10-10</th>\n",
       "      <td>2</td>\n",
       "      <td>4</td>\n",
       "      <td>17</td>\n",
       "      <td>31</td>\n",
       "    </tr>\n",
       "    <tr>\n",
       "      <th>2006-12-04</th>\n",
       "      <td>2</td>\n",
       "      <td>2</td>\n",
       "      <td>17</td>\n",
       "      <td>11</td>\n",
       "    </tr>\n",
       "    <tr>\n",
       "      <th>2006-12-27</th>\n",
       "      <td>2</td>\n",
       "      <td>1</td>\n",
       "      <td>17</td>\n",
       "      <td>1</td>\n",
       "    </tr>\n",
       "    <tr>\n",
       "      <th>2006-10-10</th>\n",
       "      <td>2</td>\n",
       "      <td>1</td>\n",
       "      <td>17</td>\n",
       "      <td>5</td>\n",
       "    </tr>\n",
       "  </tbody>\n",
       "</table>\n",
       "<p>24868203 rows × 4 columns</p>\n",
       "</div>"
      ],
      "text/plain": [
       "            sexo  raca  estado  idade\n",
       "data                                 \n",
       "2007-02-12     2     4      21     32\n",
       "2007-02-12     2     4      21     17\n",
       "2007-02-26     1     1      26     33\n",
       "2007-02-12     2     1      29      0\n",
       "2007-02-07     1     4      29      9\n",
       "...          ...   ...     ...    ...\n",
       "2006-10-10     2     4      17      8\n",
       "2006-10-10     2     4      17     31\n",
       "2006-12-04     2     2      17     11\n",
       "2006-12-27     2     1      17      1\n",
       "2006-10-10     2     1      17      5\n",
       "\n",
       "[24868203 rows x 4 columns]"
      ]
     },
     "execution_count": 362,
     "metadata": {},
     "output_type": "execute_result"
    }
   ],
   "source": [
    "df"
   ]
  },
  {
   "cell_type": "code",
   "execution_count": 363,
   "metadata": {},
   "outputs": [
    {
     "name": "stdout",
     "output_type": "stream",
     "text": [
      "Memory usage of df: 948.65 MB\n"
     ]
    }
   ],
   "source": [
    "memory_usage = df.memory_usage(deep=True).sum()\n",
    "print(f\"Memory usage of df: {memory_usage / (1024 ** 2):.2f} MB\")"
   ]
  },
  {
   "cell_type": "code",
   "execution_count": 364,
   "metadata": {},
   "outputs": [],
   "source": [
    "df.to_parquet('DENG.parquet')"
   ]
  },
  {
   "cell_type": "code",
   "execution_count": 372,
   "metadata": {},
   "outputs": [
    {
     "data": {
      "image/png": "[encoded data removed]",
      "text/plain": [
       "<Figure size 640x480 with 1 Axes>"
      ]
     },
     "metadata": {},
     "output_type": "display_data"
    }
   ],
   "source": [
    "# Resample the data by year and count the number of instances per year\n",
    "df_yearly = df.resample('YE').size()\n",
    "\n",
    "# Plot the time series\n",
    "df_yearly.plot(kind='line', title='Number of Instances per Year', xlabel='Year', ylabel='Number of Instances')\n",
    "plt.show()"
   ]
  },
  {
   "cell_type": "code",
   "execution_count": 373,
   "metadata": {},
   "outputs": [
    {
     "name": "stderr",
     "output_type": "stream",
     "text": [
      "C:\\Users\\angel\\AppData\\Local\\Temp\\ipykernel_27104\\2841668055.py:2: FutureWarning: 'M' is deprecated and will be removed in a future version, please use 'ME' instead.\n",
      "  df_monthly = df.resample('M').size()\n"
     ]
    },
    {
     "data": {
      "image/png": "[encoded data removed]",
      "text/plain": [
       "<Figure size 640x480 with 1 Axes>"
      ]
     },
     "metadata": {},
     "output_type": "display_data"
    }
   ],
   "source": [
    "# Resample the data by month and count the number of instances per month\n",
    "df_monthly = df.resample('M').size()\n",
    "\n",
    "# Plot the time series\n",
    "df_monthly.plot(kind='line', title='Number of Instances per Month', xlabel='Month', ylabel='Number of Instances')\n",
    "plt.show()"
   ]
  },
  {
   "cell_type": "code",
   "execution_count": 374,
   "metadata": {},
   "outputs": [
    {
     "data": {
      "image/png": "[encoded data removed]",
      "text/plain": [
       "<Figure size 640x480 with 1 Axes>"
      ]
     },
     "metadata": {},
     "output_type": "display_data"
    }
   ],
   "source": [
    "# Resample the data by day and count the number of instances per day\n",
    "df_daily = df.resample('D').size()\n",
    "\n",
    "# Plot the time series\n",
    "df_daily.plot(kind='line', title='Number of Instances per Day', xlabel='Day', ylabel='Number of Instances')\n",
    "plt.show()"
   ]
  },
  {
   "cell_type": "markdown",
   "metadata": {},
   "source": [
    "# Chikungunya"
   ]
  },
  {
   "cell_type": "code",
   "execution_count": 391,
   "metadata": {},
   "outputs": [
    {
     "name": "stderr",
     "output_type": "stream",
     "text": [
      "C:\\Users\\angel\\AppData\\Local\\Temp\\ipykernel_27104\\3722975156.py:1: DtypeWarning: Columns (4) have mixed types. Specify dtype option on import or set low_memory=False.\n",
      "  df = pd.read_csv('../bases/bases_usadas/chik.csv', encoding='latin1')\n"
     ]
    },
    {
     "data": {
      "text/plain": [
       "Index(['DT_NOTIFIC', 'CS_SEXO', 'NU_IDADE_N', 'SG_UF_NOT', 'CS_RACA'], dtype='object')"
      ]
     },
     "execution_count": 391,
     "metadata": {},
     "output_type": "execute_result"
    }
   ],
   "source": [
    "df = pd.read_csv('../bases/bases_usadas/chik.csv', encoding='latin1')\n",
    "df.columns"
   ]
  },
  {
   "cell_type": "code",
   "execution_count": 392,
   "metadata": {},
   "outputs": [
    {
     "data": {
      "text/plain": [
       "Index(['data', 'sexo', 'idade', 'estado', 'raca'], dtype='object')"
      ]
     },
     "execution_count": 392,
     "metadata": {},
     "output_type": "execute_result"
    }
   ],
   "source": [
    "df.rename(columns={\n",
    "    'DT_NOTIFIC': 'data',\n",
    "    'CS_SEXO': 'sexo',\n",
    "    'NU_IDADE_N': 'idade',\n",
    "    'CS_RACA': 'raca',\n",
    "    'SG_UF_NOT': 'estado'\n",
    "}, inplace=True)\n",
    "\n",
    "df.columns"
   ]
  },
  {
   "cell_type": "code",
   "execution_count": 393,
   "metadata": {},
   "outputs": [
    {
     "data": {
      "text/plain": [
       "array([4.0, 2.0, 9.0, 1.0, nan, 3.0, 5.0, '1', '4', '9', '2', '3', '5',\n",
       "       'H', 'ô'], dtype=object)"
      ]
     },
     "execution_count": 393,
     "metadata": {},
     "output_type": "execute_result"
    }
   ],
   "source": [
    "df['raca'].unique()"
   ]
  },
  {
   "cell_type": "code",
   "execution_count": 394,
   "metadata": {},
   "outputs": [
    {
     "data": {
      "text/plain": [
       "array([4, 2, 0, 1, 3, 5])"
      ]
     },
     "execution_count": 394,
     "metadata": {},
     "output_type": "execute_result"
    }
   ],
   "source": [
    "df['raca'] = df['raca'].fillna(0).replace([9, '9', 'H', 'ô'], 0).astype(np.int64)\n",
    "df['raca'].unique()"
   ]
  },
  {
   "cell_type": "code",
   "execution_count": 395,
   "metadata": {},
   "outputs": [
    {
     "data": {
      "text/plain": [
       "array(['F', 'M', 'I', nan, 'Ú', 'm'], dtype=object)"
      ]
     },
     "execution_count": 395,
     "metadata": {},
     "output_type": "execute_result"
    }
   ],
   "source": [
    "df['sexo'].unique()"
   ]
  },
  {
   "cell_type": "code",
   "execution_count": 396,
   "metadata": {},
   "outputs": [
    {
     "data": {
      "text/plain": [
       "array([2, 1, 0])"
      ]
     },
     "execution_count": 396,
     "metadata": {},
     "output_type": "execute_result"
    }
   ],
   "source": [
    "df['sexo'] = df['sexo'].fillna(0).replace(['I', 'Ú', 'm'], 0).replace({'F': '2', 'M': '1'}).astype(np.int64)\n",
    "df['sexo'].unique()"
   ]
  },
  {
   "cell_type": "code",
   "execution_count": 397,
   "metadata": {},
   "outputs": [
    {
     "data": {
      "text/plain": [
       "array([28, 24, 26, 29, 21, 16, 14, 53, 50, 42, 35, 33, 51, 15, 27, 23, 52,\n",
       "       41, 11, 13, 17, 22, 31, 43, 25, 12, 32])"
      ]
     },
     "execution_count": 397,
     "metadata": {},
     "output_type": "execute_result"
    }
   ],
   "source": [
    "df['estado'].unique()"
   ]
  },
  {
   "cell_type": "code",
   "execution_count": 398,
   "metadata": {},
   "outputs": [
    {
     "name": "stdout",
     "output_type": "stream",
     "text": [
      "[4027, 4050, 4012, 4041, 4052, 4058, 4042, 4045, 4046, 4010, 4006, 4037, 4051, 4020, 4022, 4011, 4009, 4055, 4048, 4060, 4033, 4038, 4019, 4001, 4056, 4035, 4032, 4049, 4075, 4025, 4016, 4024, 4039, 4065, 4054, 4053, 4018, 4034, 4005, 4072, 4066, 4014, 4043, 4023, 4082, 4044, 4021, 4040, 4057, 4061, 4013, 4004, 4017, 4026, 4002, 4059, 3006, 4047, 4030, 4073, 4036, 4029, 4007, 4064, 4031, 4067, 4070, 2014, 4063, 4071, 4015, 4069, 4008, 4078, 4028, 3005, 4077, 2001, 4080, 2000, 4074, 4062, 4084, 2019, 4083, 4085, 4076, 4079, 4003, 4068, 3011, 4095, 4086, 3004, 3008, 3007, 3001, 4081, 4087, 3002, 4088, 4098, 3010, 2004, 4094, 3009, 4089, 2025, 4091, 3003, 2009, 2003, 2005, 2024, 2002, 4096, 2028, 2008, 4092, 2007, 2022, 4093, 4109, 4090, 2027, 2020, 2013, 2010, 4111, 4107, 2012, 2011, 2006, 2021, 4099, 4106, 2016, 4097, 2026, 4101, 2023, 2015, 2018, 2017, 2057, 4102, 4100, 4104, 4103, 2029, 0, 57, 6, 1029, 4115, 4000, 4108, 2030, 4116, 4402, 3038, 1020, 4403, 44, 4105, 59, 1019, 30, 4112, 4110, 3088, 1002, 1018, 1000, 3029, 2040, 4400, 3045, 3047, 3064, 4401, 3018, 2076, 4521, 4405, 2043, 3044, 2058, 1037, 2053, 12, 2038, 1042, 3048, 1035, 3021, 1004, 2062, 1007, 1057, 31, 48, 2032, 3055, 3072, 34, 4117, 2049, 4132, 65, 3062, 49, 3031, 2075, 3, 45, 4120, 1066, 4406, 3025, 4404, 7, 3039, 25, 3042, 3030, 3067, 35, 4119, 2048, 1055, 28, 3016, 36, 3033, 3023, 3060, 2, 39, 10, 90, 3034, 2065, 3059, 4364, 2052, 27, 77, 43, 73, 2061, 1078, 9, 4222, 60, 19, 52, 3037, 3041, 53, 2050, 3050, 38, 4, 33, 66, 3028, 40, 26, 4223, 3054, 3069, 21, 1026, 3052, 1044, 69, 3300, 29, 41, 4113, 46, 16, 15, 61, 42, 18, 82, 1062, 55, 1033, 1040, 1056, 24, 4420, 3061, 3040, 37, 1039, 3013, 1022, 3046, 4408, 74, 54, 4114, 3075, 3000, 3035, 56, 70, 3068, 3026, 22, 2033, 1047, 62, 1041, 3070, 3014, 47, 3024, 4122, 4123, 4118]\n"
     ]
    }
   ],
   "source": [
    "unique_idades = df['idade'].unique().tolist()\n",
    "print(unique_idades)"
   ]
  },
  {
   "cell_type": "code",
   "execution_count": 399,
   "metadata": {},
   "outputs": [
    {
     "data": {
      "text/plain": [
       "array([ 27,  50,  12,  41,  52,  58,  42,  45,  46,  10,   6,  37,  51,\n",
       "        20,  22,  11,   9,  55,  48,  60,  33,  38,  19,   1,  56,  35,\n",
       "        32,  49,  75,  25,  16,  24,  39,  65,  54,  53,  18,  34,   5,\n",
       "        72,  66,  14,  43,  23,  82,  44,  21,  40,  57,  61,  13,   4,\n",
       "        17,  26,   2,  59,   0,  47,  30,  73,  36,  29,   7,  64,  31,\n",
       "        67,  70,  63,  71,  15,  69,   8,  78,  28,  77,  80,  74,  62,\n",
       "        84,  83,  85,  76,  79,   3,  68,  95,  86,  81,  87,  88,  98,\n",
       "        94,  89,  91,  96,  92,  93, 109,  90, 111, 107,  99, 106,  97,\n",
       "       101, 102, 100, 104, 103, 115, 108, 116, 105, 112, 110, 117, 120,\n",
       "       119, 113, 114, 122, 123, 118])"
      ]
     },
     "execution_count": 399,
     "metadata": {},
     "output_type": "execute_result"
    }
   ],
   "source": [
    "# Replace NaN values with 30\n",
    "df['idade'] = df['idade'].replace(np.nan, 30)\n",
    "\n",
    "def remove_first_char(x):\n",
    "    if isinstance(x, int):\n",
    "        \n",
    "        if x < 4000: ## Less than one year old\n",
    "            return str(0)\n",
    "\n",
    "        x = str(x)\n",
    "\n",
    "    if isinstance(x, str) and len(x) >= 4:\n",
    "        x = x[1:]\n",
    "        if x[0].isalpha():\n",
    "            x = x[1:]\n",
    "\n",
    "    return x\n",
    "\n",
    "# Remove the first character if the string has more than 4 characters\n",
    "df['idade'] = df['idade'].apply(remove_first_char)\n",
    "\n",
    "# Convert all values to np.int64\n",
    "df['idade'] = df['idade'].astype(np.int64)\n",
    "\n",
    "# Set values greater than 120 to 0\n",
    "df['idade'] = df['idade'].apply(lambda x: 0 if x > 130 else x)\n",
    "\n",
    "# Display the unique values to verify the transformation\n",
    "df['idade'].unique()"
   ]
  },
  {
   "cell_type": "code",
   "execution_count": 400,
   "metadata": {},
   "outputs": [
    {
     "data": {
      "text/html": [
       "<div>\n",
       "<style scoped>\n",
       "    .dataframe tbody tr th:only-of-type {\n",
       "        vertical-align: middle;\n",
       "    }\n",
       "\n",
       "    .dataframe tbody tr th {\n",
       "        vertical-align: top;\n",
       "    }\n",
       "\n",
       "    .dataframe thead th {\n",
       "        text-align: right;\n",
       "    }\n",
       "</style>\n",
       "<table border=\"1\" class=\"dataframe\">\n",
       "  <thead>\n",
       "    <tr style=\"text-align: right;\">\n",
       "      <th></th>\n",
       "      <th>sexo</th>\n",
       "      <th>idade</th>\n",
       "      <th>estado</th>\n",
       "      <th>raca</th>\n",
       "    </tr>\n",
       "    <tr>\n",
       "      <th>data</th>\n",
       "      <th></th>\n",
       "      <th></th>\n",
       "      <th></th>\n",
       "      <th></th>\n",
       "    </tr>\n",
       "  </thead>\n",
       "  <tbody>\n",
       "    <tr>\n",
       "      <th>2015-01-01</th>\n",
       "      <td>2</td>\n",
       "      <td>27</td>\n",
       "      <td>28</td>\n",
       "      <td>4</td>\n",
       "    </tr>\n",
       "    <tr>\n",
       "      <th>2015-01-01</th>\n",
       "      <td>2</td>\n",
       "      <td>50</td>\n",
       "      <td>24</td>\n",
       "      <td>4</td>\n",
       "    </tr>\n",
       "    <tr>\n",
       "      <th>2015-01-01</th>\n",
       "      <td>1</td>\n",
       "      <td>12</td>\n",
       "      <td>26</td>\n",
       "      <td>2</td>\n",
       "    </tr>\n",
       "    <tr>\n",
       "      <th>2015-01-01</th>\n",
       "      <td>2</td>\n",
       "      <td>41</td>\n",
       "      <td>29</td>\n",
       "      <td>0</td>\n",
       "    </tr>\n",
       "    <tr>\n",
       "      <th>2015-01-01</th>\n",
       "      <td>2</td>\n",
       "      <td>27</td>\n",
       "      <td>29</td>\n",
       "      <td>1</td>\n",
       "    </tr>\n",
       "    <tr>\n",
       "      <th>...</th>\n",
       "      <td>...</td>\n",
       "      <td>...</td>\n",
       "      <td>...</td>\n",
       "      <td>...</td>\n",
       "    </tr>\n",
       "    <tr>\n",
       "      <th>2023-03-26</th>\n",
       "      <td>1</td>\n",
       "      <td>0</td>\n",
       "      <td>17</td>\n",
       "      <td>4</td>\n",
       "    </tr>\n",
       "    <tr>\n",
       "      <th>2023-03-27</th>\n",
       "      <td>2</td>\n",
       "      <td>71</td>\n",
       "      <td>17</td>\n",
       "      <td>4</td>\n",
       "    </tr>\n",
       "    <tr>\n",
       "      <th>2023-03-27</th>\n",
       "      <td>1</td>\n",
       "      <td>43</td>\n",
       "      <td>17</td>\n",
       "      <td>4</td>\n",
       "    </tr>\n",
       "    <tr>\n",
       "      <th>2023-03-29</th>\n",
       "      <td>1</td>\n",
       "      <td>6</td>\n",
       "      <td>17</td>\n",
       "      <td>4</td>\n",
       "    </tr>\n",
       "    <tr>\n",
       "      <th>2023-03-07</th>\n",
       "      <td>2</td>\n",
       "      <td>33</td>\n",
       "      <td>17</td>\n",
       "      <td>4</td>\n",
       "    </tr>\n",
       "  </tbody>\n",
       "</table>\n",
       "<p>1668015 rows × 4 columns</p>\n",
       "</div>"
      ],
      "text/plain": [
       "            sexo  idade  estado  raca\n",
       "data                                 \n",
       "2015-01-01     2     27      28     4\n",
       "2015-01-01     2     50      24     4\n",
       "2015-01-01     1     12      26     2\n",
       "2015-01-01     2     41      29     0\n",
       "2015-01-01     2     27      29     1\n",
       "...          ...    ...     ...   ...\n",
       "2023-03-26     1      0      17     4\n",
       "2023-03-27     2     71      17     4\n",
       "2023-03-27     1     43      17     4\n",
       "2023-03-29     1      6      17     4\n",
       "2023-03-07     2     33      17     4\n",
       "\n",
       "[1668015 rows x 4 columns]"
      ]
     },
     "execution_count": 400,
     "metadata": {},
     "output_type": "execute_result"
    }
   ],
   "source": [
    "# Convert 'data' column to datetime, coerce errors to NaT\n",
    "df['data'] = pd.to_datetime(df['data'], format='%Y%m%d', errors='coerce')\n",
    "\n",
    "# Remove rows with NaT in 'data' column\n",
    "df = df.dropna(subset=['data'])\n",
    "\n",
    "# Set 'data' column as index\n",
    "df.set_index('data', inplace=True)\n",
    "\n",
    "# Display few rows to verify\n",
    "df"
   ]
  },
  {
   "cell_type": "code",
   "execution_count": 401,
   "metadata": {},
   "outputs": [
    {
     "name": "stdout",
     "output_type": "stream",
     "text": [
      "Memory usage of df: 63.63 MB\n"
     ]
    }
   ],
   "source": [
    "memory_usage = df.memory_usage(deep=True).sum()\n",
    "print(f\"Memory usage of df: {memory_usage / (1024 ** 2):.2f} MB\")"
   ]
  },
  {
   "cell_type": "code",
   "execution_count": 402,
   "metadata": {},
   "outputs": [],
   "source": [
    "df.to_parquet('CHIK.parquet')"
   ]
  },
  {
   "cell_type": "markdown",
   "metadata": {},
   "source": [
    "# Zika"
   ]
  },
  {
   "cell_type": "code",
   "execution_count": 403,
   "metadata": {},
   "outputs": [
    {
     "data": {
      "text/html": [
       "<div>\n",
       "<style scoped>\n",
       "    .dataframe tbody tr th:only-of-type {\n",
       "        vertical-align: middle;\n",
       "    }\n",
       "\n",
       "    .dataframe tbody tr th {\n",
       "        vertical-align: top;\n",
       "    }\n",
       "\n",
       "    .dataframe thead th {\n",
       "        text-align: right;\n",
       "    }\n",
       "</style>\n",
       "<table border=\"1\" class=\"dataframe\">\n",
       "  <thead>\n",
       "    <tr style=\"text-align: right;\">\n",
       "      <th></th>\n",
       "      <th>CS_SEXO</th>\n",
       "      <th>CS_RACA</th>\n",
       "      <th>DT_NOTIFIC</th>\n",
       "      <th>NU_IDADE_N</th>\n",
       "      <th>SG_UF_NOT</th>\n",
       "    </tr>\n",
       "  </thead>\n",
       "  <tbody>\n",
       "    <tr>\n",
       "      <th>0</th>\n",
       "      <td>M</td>\n",
       "      <td>NaN</td>\n",
       "      <td>20160101</td>\n",
       "      <td>4116</td>\n",
       "      <td>17</td>\n",
       "    </tr>\n",
       "    <tr>\n",
       "      <th>1</th>\n",
       "      <td>M</td>\n",
       "      <td>4.0</td>\n",
       "      <td>20160101</td>\n",
       "      <td>4048</td>\n",
       "      <td>29</td>\n",
       "    </tr>\n",
       "    <tr>\n",
       "      <th>2</th>\n",
       "      <td>M</td>\n",
       "      <td>4.0</td>\n",
       "      <td>20160101</td>\n",
       "      <td>4002</td>\n",
       "      <td>29</td>\n",
       "    </tr>\n",
       "    <tr>\n",
       "      <th>3</th>\n",
       "      <td>F</td>\n",
       "      <td>1.0</td>\n",
       "      <td>20160101</td>\n",
       "      <td>4077</td>\n",
       "      <td>29</td>\n",
       "    </tr>\n",
       "    <tr>\n",
       "      <th>4</th>\n",
       "      <td>M</td>\n",
       "      <td>9.0</td>\n",
       "      <td>20160101</td>\n",
       "      <td>4023</td>\n",
       "      <td>32</td>\n",
       "    </tr>\n",
       "    <tr>\n",
       "      <th>...</th>\n",
       "      <td>...</td>\n",
       "      <td>...</td>\n",
       "      <td>...</td>\n",
       "      <td>...</td>\n",
       "      <td>...</td>\n",
       "    </tr>\n",
       "    <tr>\n",
       "      <th>463024</th>\n",
       "      <td>M</td>\n",
       "      <td>4.0</td>\n",
       "      <td>20231031</td>\n",
       "      <td>4017</td>\n",
       "      <td>15</td>\n",
       "    </tr>\n",
       "    <tr>\n",
       "      <th>463025</th>\n",
       "      <td>F</td>\n",
       "      <td>4.0</td>\n",
       "      <td>20231031</td>\n",
       "      <td>3009</td>\n",
       "      <td>43</td>\n",
       "    </tr>\n",
       "    <tr>\n",
       "      <th>463026</th>\n",
       "      <td>F</td>\n",
       "      <td>4.0</td>\n",
       "      <td>20231031</td>\n",
       "      <td>4014</td>\n",
       "      <td>12</td>\n",
       "    </tr>\n",
       "    <tr>\n",
       "      <th>463027</th>\n",
       "      <td>F</td>\n",
       "      <td>4.0</td>\n",
       "      <td>20231031</td>\n",
       "      <td>4014</td>\n",
       "      <td>12</td>\n",
       "    </tr>\n",
       "    <tr>\n",
       "      <th>463028</th>\n",
       "      <td>F</td>\n",
       "      <td>4.0</td>\n",
       "      <td>20231031</td>\n",
       "      <td>4031</td>\n",
       "      <td>28</td>\n",
       "    </tr>\n",
       "  </tbody>\n",
       "</table>\n",
       "<p>463029 rows × 5 columns</p>\n",
       "</div>"
      ],
      "text/plain": [
       "       CS_SEXO  CS_RACA  DT_NOTIFIC  NU_IDADE_N  SG_UF_NOT\n",
       "0            M      NaN    20160101        4116         17\n",
       "1            M      4.0    20160101        4048         29\n",
       "2            M      4.0    20160101        4002         29\n",
       "3            F      1.0    20160101        4077         29\n",
       "4            M      9.0    20160101        4023         32\n",
       "...        ...      ...         ...         ...        ...\n",
       "463024       M      4.0    20231031        4017         15\n",
       "463025       F      4.0    20231031        3009         43\n",
       "463026       F      4.0    20231031        4014         12\n",
       "463027       F      4.0    20231031        4014         12\n",
       "463028       F      4.0    20231031        4031         28\n",
       "\n",
       "[463029 rows x 5 columns]"
      ]
     },
     "execution_count": 403,
     "metadata": {},
     "output_type": "execute_result"
    }
   ],
   "source": [
    "df = pd.read_csv('../bases/bases_usadas/zika.csv')\n",
    "df"
   ]
  },
  {
   "cell_type": "code",
   "execution_count": 404,
   "metadata": {},
   "outputs": [
    {
     "data": {
      "text/plain": [
       "Index(['sexo', 'raca', 'data', 'idade', 'estado'], dtype='object')"
      ]
     },
     "execution_count": 404,
     "metadata": {},
     "output_type": "execute_result"
    }
   ],
   "source": [
    "df.rename(columns={\n",
    "    'DT_NOTIFIC': 'data',\n",
    "    'CS_SEXO': 'sexo',\n",
    "    'NU_IDADE_N': 'idade',\n",
    "    'CS_RACA': 'raca',\n",
    "    'SG_UF_NOT': 'estado'\n",
    "}, inplace=True)\n",
    "\n",
    "df.columns"
   ]
  },
  {
   "cell_type": "code",
   "execution_count": 405,
   "metadata": {},
   "outputs": [
    {
     "data": {
      "text/plain": [
       "array([nan,  4.,  1.,  9.,  2.,  3.,  5.])"
      ]
     },
     "execution_count": 405,
     "metadata": {},
     "output_type": "execute_result"
    }
   ],
   "source": [
    "df['raca'].unique()"
   ]
  },
  {
   "cell_type": "code",
   "execution_count": 406,
   "metadata": {},
   "outputs": [
    {
     "data": {
      "text/plain": [
       "array([0, 4, 1, 2, 3, 5])"
      ]
     },
     "execution_count": 406,
     "metadata": {},
     "output_type": "execute_result"
    }
   ],
   "source": [
    "df['raca'] = df['raca'].fillna(0).replace(9, 0).astype(np.int64)\n",
    "df['raca'].unique()"
   ]
  },
  {
   "cell_type": "code",
   "execution_count": 407,
   "metadata": {},
   "outputs": [
    {
     "data": {
      "text/plain": [
       "array(['M', 'F', 'I'], dtype=object)"
      ]
     },
     "execution_count": 407,
     "metadata": {},
     "output_type": "execute_result"
    }
   ],
   "source": [
    "df['sexo'].unique()"
   ]
  },
  {
   "cell_type": "code",
   "execution_count": 408,
   "metadata": {},
   "outputs": [
    {
     "data": {
      "text/plain": [
       "array([1, 2, 0])"
      ]
     },
     "execution_count": 408,
     "metadata": {},
     "output_type": "execute_result"
    }
   ],
   "source": [
    "df['sexo'] = df['sexo'].fillna(0).replace('I', 0).replace({'F': '2', 'M': '1'}).astype(np.int64)\n",
    "df['sexo'].unique()"
   ]
  },
  {
   "cell_type": "code",
   "execution_count": 409,
   "metadata": {},
   "outputs": [
    {
     "data": {
      "text/plain": [
       "array([17, 29, 32, 15, 25, 41, 33, 31, 26, 24, 42, 35, 51, 23, 50, 28, 27,\n",
       "       13, 52, 12, 11, 21, 53, 43, 16, 22, 14])"
      ]
     },
     "execution_count": 409,
     "metadata": {},
     "output_type": "execute_result"
    }
   ],
   "source": [
    "df['estado'].unique()"
   ]
  },
  {
   "cell_type": "code",
   "execution_count": 410,
   "metadata": {},
   "outputs": [
    {
     "name": "stdout",
     "output_type": "stream",
     "text": [
      "[4116, 4048, 4002, 4077, 4023, 4033, 4026, 4054, 4050, 4029, 3002, 3011, 4008, 4022, 4046, 4037, 4039, 4021, 4006, 4009, 4078, 4004, 4010, 4011, 4028, 4035, 4032, 4038, 4018, 4042, 4017, 4013, 4061, 4056, 4001, 4044, 4059, 4068, 4024, 4030, 4064, 4019, 4051, 4045, 4060, 4020, 4047, 4043, 4031, 4055, 4036, 4015, 4034, 4040, 4005, 4058, 4052, 4012, 4062, 4065, 4063, 4007, 4049, 3009, 4067, 4025, 4027, 4003, 3010, 4041, 4016, 4057, 4071, 4053, 4014, 2000, 4079, 4069, 4066, 4075, 2009, 3007, 3006, 4082, 4083, 4095, 4070, 4074, 2007, 4086, 4072, 4080, 4087, 4081, 3005, 3003, 4073, 2005, 3004, 3001, 4093, 4084, 3008, 4085, 4076, 4091, 2017, 2015, 4100, 4088, 2002, 2024, 4099, 2001, 2004, 2020, 4089, 4090, 4094, 4120, 3029, 4103, 2008, 2006, 2003, 2018, 2013, 2021, 4092, 2016, 2014, 4096, 2010, 4108, 2022, 4101, 2012, 2026, 2025, 4110, 4098, 2019, 1014, 2027, 1001, 4097, 2029, 4000, 2011, 4109, 4102, 2023, 2028, 4113, 4107, 2030, 3076, 4114, 3028, 4104, 4105, 1021, 3042, 3040, 4115, 3053, 4117, 3019, 3013, 4118, 3034, 4106, 1002, 1023, 4111, 1047, 3000, 1004]\n"
     ]
    }
   ],
   "source": [
    "unique_idades = df['idade'].unique().tolist()\n",
    "print(unique_idades)"
   ]
  },
  {
   "cell_type": "code",
   "execution_count": 411,
   "metadata": {},
   "outputs": [
    {
     "data": {
      "text/plain": [
       "array([116,  48,   2,  77,  23,  33,  26,  54,  50,  29,   0,   8,  22,\n",
       "        46,  37,  39,  21,   6,   9,  78,   4,  10,  11,  28,  35,  32,\n",
       "        38,  18,  42,  17,  13,  61,  56,   1,  44,  59,  68,  24,  30,\n",
       "        64,  19,  51,  45,  60,  20,  47,  43,  31,  55,  36,  15,  34,\n",
       "        40,   5,  58,  52,  12,  62,  65,  63,   7,  49,  67,  25,  27,\n",
       "         3,  41,  16,  57,  71,  53,  14,  79,  69,  66,  75,  82,  83,\n",
       "        95,  70,  74,  86,  72,  80,  87,  81,  73,  93,  84,  85,  76,\n",
       "        91, 100,  88,  99,  89,  90,  94, 120, 103,  92,  96, 108, 101,\n",
       "       110,  98,  97, 109, 102, 113, 107, 114, 104, 105, 115, 117, 118,\n",
       "       106, 111])"
      ]
     },
     "execution_count": 411,
     "metadata": {},
     "output_type": "execute_result"
    }
   ],
   "source": [
    "# Replace NaN values with 30\n",
    "df['idade'] = df['idade'].replace(np.nan, 30)\n",
    "\n",
    "def remove_first_char(x):\n",
    "    if isinstance(x, int):\n",
    "        \n",
    "        if x < 4000: ## Less than one year old\n",
    "            return str(0)\n",
    "\n",
    "        x = str(x)\n",
    "\n",
    "    if isinstance(x, str) and len(x) >= 4:\n",
    "        x = x[1:]\n",
    "        if x[0].isalpha():\n",
    "            x = x[1:]\n",
    "\n",
    "    return x\n",
    "\n",
    "# Remove the first character if the string has more than 4 characters\n",
    "df['idade'] = df['idade'].apply(remove_first_char)\n",
    "\n",
    "# Convert all values to np.int64\n",
    "df['idade'] = df['idade'].astype(np.int64)\n",
    "\n",
    "# Set values greater than 120 to 0\n",
    "df['idade'] = df['idade'].apply(lambda x: 0 if x > 130 else x)\n",
    "\n",
    "# Display the unique values to verify the transformation\n",
    "df['idade'].unique()"
   ]
  },
  {
   "cell_type": "code",
   "execution_count": 412,
   "metadata": {},
   "outputs": [
    {
     "data": {
      "text/html": [
       "<div>\n",
       "<style scoped>\n",
       "    .dataframe tbody tr th:only-of-type {\n",
       "        vertical-align: middle;\n",
       "    }\n",
       "\n",
       "    .dataframe tbody tr th {\n",
       "        vertical-align: top;\n",
       "    }\n",
       "\n",
       "    .dataframe thead th {\n",
       "        text-align: right;\n",
       "    }\n",
       "</style>\n",
       "<table border=\"1\" class=\"dataframe\">\n",
       "  <thead>\n",
       "    <tr style=\"text-align: right;\">\n",
       "      <th></th>\n",
       "      <th>sexo</th>\n",
       "      <th>raca</th>\n",
       "      <th>idade</th>\n",
       "      <th>estado</th>\n",
       "    </tr>\n",
       "    <tr>\n",
       "      <th>data</th>\n",
       "      <th></th>\n",
       "      <th></th>\n",
       "      <th></th>\n",
       "      <th></th>\n",
       "    </tr>\n",
       "  </thead>\n",
       "  <tbody>\n",
       "    <tr>\n",
       "      <th>2016-01-01</th>\n",
       "      <td>1</td>\n",
       "      <td>0</td>\n",
       "      <td>116</td>\n",
       "      <td>17</td>\n",
       "    </tr>\n",
       "    <tr>\n",
       "      <th>2016-01-01</th>\n",
       "      <td>1</td>\n",
       "      <td>4</td>\n",
       "      <td>48</td>\n",
       "      <td>29</td>\n",
       "    </tr>\n",
       "    <tr>\n",
       "      <th>2016-01-01</th>\n",
       "      <td>1</td>\n",
       "      <td>4</td>\n",
       "      <td>2</td>\n",
       "      <td>29</td>\n",
       "    </tr>\n",
       "    <tr>\n",
       "      <th>2016-01-01</th>\n",
       "      <td>2</td>\n",
       "      <td>1</td>\n",
       "      <td>77</td>\n",
       "      <td>29</td>\n",
       "    </tr>\n",
       "    <tr>\n",
       "      <th>2016-01-01</th>\n",
       "      <td>1</td>\n",
       "      <td>0</td>\n",
       "      <td>23</td>\n",
       "      <td>32</td>\n",
       "    </tr>\n",
       "    <tr>\n",
       "      <th>...</th>\n",
       "      <td>...</td>\n",
       "      <td>...</td>\n",
       "      <td>...</td>\n",
       "      <td>...</td>\n",
       "    </tr>\n",
       "    <tr>\n",
       "      <th>2023-10-31</th>\n",
       "      <td>1</td>\n",
       "      <td>4</td>\n",
       "      <td>17</td>\n",
       "      <td>15</td>\n",
       "    </tr>\n",
       "    <tr>\n",
       "      <th>2023-10-31</th>\n",
       "      <td>2</td>\n",
       "      <td>4</td>\n",
       "      <td>0</td>\n",
       "      <td>43</td>\n",
       "    </tr>\n",
       "    <tr>\n",
       "      <th>2023-10-31</th>\n",
       "      <td>2</td>\n",
       "      <td>4</td>\n",
       "      <td>14</td>\n",
       "      <td>12</td>\n",
       "    </tr>\n",
       "    <tr>\n",
       "      <th>2023-10-31</th>\n",
       "      <td>2</td>\n",
       "      <td>4</td>\n",
       "      <td>14</td>\n",
       "      <td>12</td>\n",
       "    </tr>\n",
       "    <tr>\n",
       "      <th>2023-10-31</th>\n",
       "      <td>2</td>\n",
       "      <td>4</td>\n",
       "      <td>31</td>\n",
       "      <td>28</td>\n",
       "    </tr>\n",
       "  </tbody>\n",
       "</table>\n",
       "<p>463029 rows × 4 columns</p>\n",
       "</div>"
      ],
      "text/plain": [
       "            sexo  raca  idade  estado\n",
       "data                                 \n",
       "2016-01-01     1     0    116      17\n",
       "2016-01-01     1     4     48      29\n",
       "2016-01-01     1     4      2      29\n",
       "2016-01-01     2     1     77      29\n",
       "2016-01-01     1     0     23      32\n",
       "...          ...   ...    ...     ...\n",
       "2023-10-31     1     4     17      15\n",
       "2023-10-31     2     4      0      43\n",
       "2023-10-31     2     4     14      12\n",
       "2023-10-31     2     4     14      12\n",
       "2023-10-31     2     4     31      28\n",
       "\n",
       "[463029 rows x 4 columns]"
      ]
     },
     "execution_count": 412,
     "metadata": {},
     "output_type": "execute_result"
    }
   ],
   "source": [
    "# Convert 'data' column to datetime, coerce errors to NaT\n",
    "df['data'] = pd.to_datetime(df['data'], format='%Y%m%d', errors='coerce')\n",
    "\n",
    "# Remove rows with NaT in 'data' column\n",
    "df = df.dropna(subset=['data'])\n",
    "\n",
    "# Set 'data' column as index\n",
    "df.set_index('data', inplace=True)\n",
    "\n",
    "# Display few rows to verify\n",
    "df"
   ]
  },
  {
   "cell_type": "code",
   "execution_count": 413,
   "metadata": {},
   "outputs": [],
   "source": [
    "df.to_parquet('ZIKA.parquet')"
   ]
  },
  {
   "cell_type": "markdown",
   "metadata": {},
   "source": [
    "# SIM"
   ]
  },
  {
   "cell_type": "code",
   "execution_count": 459,
   "metadata": {},
   "outputs": [
    {
     "data": {
      "text/html": [
       "<div>\n",
       "<style scoped>\n",
       "    .dataframe tbody tr th:only-of-type {\n",
       "        vertical-align: middle;\n",
       "    }\n",
       "\n",
       "    .dataframe tbody tr th {\n",
       "        vertical-align: top;\n",
       "    }\n",
       "\n",
       "    .dataframe thead th {\n",
       "        text-align: right;\n",
       "    }\n",
       "</style>\n",
       "<table border=\"1\" class=\"dataframe\">\n",
       "  <thead>\n",
       "    <tr style=\"text-align: right;\">\n",
       "      <th></th>\n",
       "      <th>IDADE</th>\n",
       "      <th>SEXO</th>\n",
       "      <th>RACACOR</th>\n",
       "      <th>DTOBITO</th>\n",
       "      <th>CODMUNRES</th>\n",
       "      <th>CAUSABAS</th>\n",
       "    </tr>\n",
       "  </thead>\n",
       "  <tbody>\n",
       "    <tr>\n",
       "      <th>0</th>\n",
       "      <td>425.0</td>\n",
       "      <td>1.0</td>\n",
       "      <td>NaN</td>\n",
       "      <td>11021996</td>\n",
       "      <td>1200000</td>\n",
       "      <td>V892</td>\n",
       "    </tr>\n",
       "    <tr>\n",
       "      <th>1</th>\n",
       "      <td>430.0</td>\n",
       "      <td>1.0</td>\n",
       "      <td>NaN</td>\n",
       "      <td>4061996</td>\n",
       "      <td>1200401</td>\n",
       "      <td>I219</td>\n",
       "    </tr>\n",
       "    <tr>\n",
       "      <th>2</th>\n",
       "      <td>443.0</td>\n",
       "      <td>2.0</td>\n",
       "      <td>NaN</td>\n",
       "      <td>20021996</td>\n",
       "      <td>1200401</td>\n",
       "      <td>X999</td>\n",
       "    </tr>\n",
       "    <tr>\n",
       "      <th>3</th>\n",
       "      <td>423.0</td>\n",
       "      <td>2.0</td>\n",
       "      <td>NaN</td>\n",
       "      <td>1011996</td>\n",
       "      <td>1200401</td>\n",
       "      <td>O984</td>\n",
       "    </tr>\n",
       "    <tr>\n",
       "      <th>4</th>\n",
       "      <td>421.0</td>\n",
       "      <td>2.0</td>\n",
       "      <td>NaN</td>\n",
       "      <td>1011996</td>\n",
       "      <td>1200401</td>\n",
       "      <td>X959</td>\n",
       "    </tr>\n",
       "    <tr>\n",
       "      <th>...</th>\n",
       "      <td>...</td>\n",
       "      <td>...</td>\n",
       "      <td>...</td>\n",
       "      <td>...</td>\n",
       "      <td>...</td>\n",
       "      <td>...</td>\n",
       "    </tr>\n",
       "    <tr>\n",
       "      <th>85989</th>\n",
       "      <td>419.0</td>\n",
       "      <td>2.0</td>\n",
       "      <td>5.0</td>\n",
       "      <td>16112022</td>\n",
       "      <td>120034</td>\n",
       "      <td>R99</td>\n",
       "    </tr>\n",
       "    <tr>\n",
       "      <th>85990</th>\n",
       "      <td>482.0</td>\n",
       "      <td>2.0</td>\n",
       "      <td>5.0</td>\n",
       "      <td>2112022</td>\n",
       "      <td>120060</td>\n",
       "      <td>J960</td>\n",
       "    </tr>\n",
       "    <tr>\n",
       "      <th>85991</th>\n",
       "      <td>487.0</td>\n",
       "      <td>2.0</td>\n",
       "      <td>5.0</td>\n",
       "      <td>20072022</td>\n",
       "      <td>120060</td>\n",
       "      <td>A09</td>\n",
       "    </tr>\n",
       "    <tr>\n",
       "      <th>85992</th>\n",
       "      <td>426.0</td>\n",
       "      <td>2.0</td>\n",
       "      <td>5.0</td>\n",
       "      <td>8092022</td>\n",
       "      <td>120060</td>\n",
       "      <td>A153</td>\n",
       "    </tr>\n",
       "    <tr>\n",
       "      <th>85993</th>\n",
       "      <td>459.0</td>\n",
       "      <td>1.0</td>\n",
       "      <td>5.0</td>\n",
       "      <td>9122022</td>\n",
       "      <td>120032</td>\n",
       "      <td>R99</td>\n",
       "    </tr>\n",
       "  </tbody>\n",
       "</table>\n",
       "<p>85994 rows × 6 columns</p>\n",
       "</div>"
      ],
      "text/plain": [
       "       IDADE  SEXO  RACACOR   DTOBITO  CODMUNRES CAUSABAS\n",
       "0      425.0   1.0      NaN  11021996    1200000     V892\n",
       "1      430.0   1.0      NaN   4061996    1200401     I219\n",
       "2      443.0   2.0      NaN  20021996    1200401     X999\n",
       "3      423.0   2.0      NaN   1011996    1200401     O984\n",
       "4      421.0   2.0      NaN   1011996    1200401     X959\n",
       "...      ...   ...      ...       ...        ...      ...\n",
       "85989  419.0   2.0      5.0  16112022     120034      R99\n",
       "85990  482.0   2.0      5.0   2112022     120060     J960\n",
       "85991  487.0   2.0      5.0  20072022     120060      A09\n",
       "85992  426.0   2.0      5.0   8092022     120060     A153\n",
       "85993  459.0   1.0      5.0   9122022     120032      R99\n",
       "\n",
       "[85994 rows x 6 columns]"
      ]
     },
     "execution_count": 459,
     "metadata": {},
     "output_type": "execute_result"
    }
   ],
   "source": [
    "df = pd.read_csv('../bases/bases_usadas/sim.csv')\n",
    "df"
   ]
  },
  {
   "cell_type": "code",
   "execution_count": 460,
   "metadata": {},
   "outputs": [
    {
     "name": "stdout",
     "output_type": "stream",
     "text": [
      "<class 'pandas.core.frame.DataFrame'>\n",
      "RangeIndex: 85994 entries, 0 to 85993\n",
      "Data columns (total 6 columns):\n",
      " #   Column     Non-Null Count  Dtype  \n",
      "---  ------     --------------  -----  \n",
      " 0   IDADE      85939 non-null  float64\n",
      " 1   SEXO       85992 non-null  float64\n",
      " 2   RACACOR    69464 non-null  float64\n",
      " 3   DTOBITO    85994 non-null  int64  \n",
      " 4   CODMUNRES  85994 non-null  int64  \n",
      " 5   CAUSABAS   85994 non-null  object \n",
      "dtypes: float64(3), int64(2), object(1)\n",
      "memory usage: 3.9+ MB\n"
     ]
    }
   ],
   "source": [
    "df.info()"
   ]
  },
  {
   "cell_type": "code",
   "execution_count": 461,
   "metadata": {},
   "outputs": [
    {
     "data": {
      "text/plain": [
       "Index(['idade', 'sexo', 'raca', 'data', 'estado', 'causa'], dtype='object')"
      ]
     },
     "execution_count": 461,
     "metadata": {},
     "output_type": "execute_result"
    }
   ],
   "source": [
    "df.rename(columns={\n",
    "    'IDADE': 'idade',\n",
    "    'SEXO': 'sexo',\n",
    "    'RACACOR': 'raca',\n",
    "    'CODMUNRES': 'estado',\n",
    "    'DTOBITO': 'data',\n",
    "    'CAUSABAS': 'causa'\n",
    "}, inplace=True)\n",
    "\n",
    "df.columns"
   ]
  },
  {
   "cell_type": "code",
   "execution_count": 462,
   "metadata": {},
   "outputs": [],
   "source": [
    "idades = df['idade'].unique()"
   ]
  },
  {
   "cell_type": "code",
   "execution_count": 463,
   "metadata": {},
   "outputs": [
    {
     "data": {
      "text/plain": [
       "425"
      ]
     },
     "execution_count": 463,
     "metadata": {},
     "output_type": "execute_result"
    }
   ],
   "source": [
    "isinstance( idades[0] , float)\n",
    "int(idades[0])"
   ]
  },
  {
   "cell_type": "code",
   "execution_count": 464,
   "metadata": {},
   "outputs": [],
   "source": [
    "# Replace NaN values with 30\n",
    "df['idade'] = df['idade'].replace(np.nan, 30)"
   ]
  },
  {
   "cell_type": "code",
   "execution_count": 465,
   "metadata": {},
   "outputs": [
    {
     "data": {
      "text/html": [
       "<div>\n",
       "<style scoped>\n",
       "    .dataframe tbody tr th:only-of-type {\n",
       "        vertical-align: middle;\n",
       "    }\n",
       "\n",
       "    .dataframe tbody tr th {\n",
       "        vertical-align: top;\n",
       "    }\n",
       "\n",
       "    .dataframe thead th {\n",
       "        text-align: right;\n",
       "    }\n",
       "</style>\n",
       "<table border=\"1\" class=\"dataframe\">\n",
       "  <thead>\n",
       "    <tr style=\"text-align: right;\">\n",
       "      <th></th>\n",
       "      <th>idade</th>\n",
       "      <th>sexo</th>\n",
       "      <th>raca</th>\n",
       "      <th>data</th>\n",
       "      <th>estado</th>\n",
       "      <th>causa</th>\n",
       "    </tr>\n",
       "  </thead>\n",
       "  <tbody>\n",
       "    <tr>\n",
       "      <th>0</th>\n",
       "      <td>425.0</td>\n",
       "      <td>1.0</td>\n",
       "      <td>NaN</td>\n",
       "      <td>11021996</td>\n",
       "      <td>1200000</td>\n",
       "      <td>V892</td>\n",
       "    </tr>\n",
       "    <tr>\n",
       "      <th>1</th>\n",
       "      <td>430.0</td>\n",
       "      <td>1.0</td>\n",
       "      <td>NaN</td>\n",
       "      <td>4061996</td>\n",
       "      <td>1200401</td>\n",
       "      <td>I219</td>\n",
       "    </tr>\n",
       "    <tr>\n",
       "      <th>2</th>\n",
       "      <td>443.0</td>\n",
       "      <td>2.0</td>\n",
       "      <td>NaN</td>\n",
       "      <td>20021996</td>\n",
       "      <td>1200401</td>\n",
       "      <td>X999</td>\n",
       "    </tr>\n",
       "    <tr>\n",
       "      <th>3</th>\n",
       "      <td>423.0</td>\n",
       "      <td>2.0</td>\n",
       "      <td>NaN</td>\n",
       "      <td>1011996</td>\n",
       "      <td>1200401</td>\n",
       "      <td>O984</td>\n",
       "    </tr>\n",
       "    <tr>\n",
       "      <th>4</th>\n",
       "      <td>421.0</td>\n",
       "      <td>2.0</td>\n",
       "      <td>NaN</td>\n",
       "      <td>1011996</td>\n",
       "      <td>1200401</td>\n",
       "      <td>X959</td>\n",
       "    </tr>\n",
       "    <tr>\n",
       "      <th>...</th>\n",
       "      <td>...</td>\n",
       "      <td>...</td>\n",
       "      <td>...</td>\n",
       "      <td>...</td>\n",
       "      <td>...</td>\n",
       "      <td>...</td>\n",
       "    </tr>\n",
       "    <tr>\n",
       "      <th>85989</th>\n",
       "      <td>419.0</td>\n",
       "      <td>2.0</td>\n",
       "      <td>5.0</td>\n",
       "      <td>16112022</td>\n",
       "      <td>120034</td>\n",
       "      <td>R99</td>\n",
       "    </tr>\n",
       "    <tr>\n",
       "      <th>85990</th>\n",
       "      <td>482.0</td>\n",
       "      <td>2.0</td>\n",
       "      <td>5.0</td>\n",
       "      <td>2112022</td>\n",
       "      <td>120060</td>\n",
       "      <td>J960</td>\n",
       "    </tr>\n",
       "    <tr>\n",
       "      <th>85991</th>\n",
       "      <td>487.0</td>\n",
       "      <td>2.0</td>\n",
       "      <td>5.0</td>\n",
       "      <td>20072022</td>\n",
       "      <td>120060</td>\n",
       "      <td>A09</td>\n",
       "    </tr>\n",
       "    <tr>\n",
       "      <th>85992</th>\n",
       "      <td>426.0</td>\n",
       "      <td>2.0</td>\n",
       "      <td>5.0</td>\n",
       "      <td>8092022</td>\n",
       "      <td>120060</td>\n",
       "      <td>A153</td>\n",
       "    </tr>\n",
       "    <tr>\n",
       "      <th>85993</th>\n",
       "      <td>459.0</td>\n",
       "      <td>1.0</td>\n",
       "      <td>5.0</td>\n",
       "      <td>9122022</td>\n",
       "      <td>120032</td>\n",
       "      <td>R99</td>\n",
       "    </tr>\n",
       "  </tbody>\n",
       "</table>\n",
       "<p>85994 rows × 6 columns</p>\n",
       "</div>"
      ],
      "text/plain": [
       "       idade  sexo  raca      data   estado causa\n",
       "0      425.0   1.0   NaN  11021996  1200000  V892\n",
       "1      430.0   1.0   NaN   4061996  1200401  I219\n",
       "2      443.0   2.0   NaN  20021996  1200401  X999\n",
       "3      423.0   2.0   NaN   1011996  1200401  O984\n",
       "4      421.0   2.0   NaN   1011996  1200401  X959\n",
       "...      ...   ...   ...       ...      ...   ...\n",
       "85989  419.0   2.0   5.0  16112022   120034   R99\n",
       "85990  482.0   2.0   5.0   2112022   120060  J960\n",
       "85991  487.0   2.0   5.0  20072022   120060   A09\n",
       "85992  426.0   2.0   5.0   8092022   120060  A153\n",
       "85993  459.0   1.0   5.0   9122022   120032   R99\n",
       "\n",
       "[85994 rows x 6 columns]"
      ]
     },
     "execution_count": 465,
     "metadata": {},
     "output_type": "execute_result"
    }
   ],
   "source": [
    "df"
   ]
  },
  {
   "cell_type": "code",
   "execution_count": 466,
   "metadata": {},
   "outputs": [
    {
     "data": {
      "text/plain": [
       "array([ 25,  30,  43,  23,  21,  36,   0,  87,  70,  65,  55,  72,  62,\n",
       "        91,  75,   1,  51,  78,  88,  10,  42,  85,  76,  41,  50,  40,\n",
       "        67,  58,  73,  48,  32,  38,  84,  77,  45,  60,  44,  68,  56,\n",
       "        71,  81,  17,  52,  57,   5,  66,  13,  28,  22,  86,  64,  49,\n",
       "        29,   2,  47,  19,   6,  27,  89,  24,  79,  53,   3,  14,  90,\n",
       "        83,  74,  37,  18,  61,  15,  80,  39,  63,  31,  59,  16,  46,\n",
       "        33,  20,  54,  82,  35,  94,  12,  69,   4,  26,  11,   8,  34,\n",
       "         9, 101,  93,  98,   7,  92, 106,  95, 111,  96,  97,  99, 108,\n",
       "       102, 103, 100, 104, 105, 107, 109, 112, 110, 131, 113])"
      ]
     },
     "execution_count": 466,
     "metadata": {},
     "output_type": "execute_result"
    }
   ],
   "source": [
    "def remove_first_number(x):\n",
    "\n",
    "    if isinstance(x, float):\n",
    "        x = int(x)\n",
    "\n",
    "    if isinstance(x, int):\n",
    "    \n",
    "        if x < 400: ## Less than one year old\n",
    "            return str(0)\n",
    "        \n",
    "        if x >= 400 and x < 500:\n",
    "            return str(x - 400)\n",
    "        \n",
    "        if x >= 500 and x < 600:\n",
    "            return str((x-500) + 100)\n",
    "\n",
    "        if x >= 600:\n",
    "            return str(0)\n",
    "\n",
    "\n",
    "\n",
    "# Remove the first number\n",
    "df['idade'] = df['idade'].apply(remove_first_number)\n",
    "\n",
    "# Convert all values to np.int64\n",
    "df['idade'] = df['idade'].astype(np.int64)\n",
    "\n",
    "# Display the unique values to verify the transformation\n",
    "df['idade'].unique()"
   ]
  },
  {
   "cell_type": "code",
   "execution_count": 467,
   "metadata": {},
   "outputs": [
    {
     "data": {
      "text/plain": [
       "array([ 1.,  2., nan,  0.])"
      ]
     },
     "execution_count": 467,
     "metadata": {},
     "output_type": "execute_result"
    }
   ],
   "source": [
    "df['sexo'].unique()"
   ]
  },
  {
   "cell_type": "code",
   "execution_count": 468,
   "metadata": {},
   "outputs": [
    {
     "data": {
      "text/html": [
       "<div>\n",
       "<style scoped>\n",
       "    .dataframe tbody tr th:only-of-type {\n",
       "        vertical-align: middle;\n",
       "    }\n",
       "\n",
       "    .dataframe tbody tr th {\n",
       "        vertical-align: top;\n",
       "    }\n",
       "\n",
       "    .dataframe thead th {\n",
       "        text-align: right;\n",
       "    }\n",
       "</style>\n",
       "<table border=\"1\" class=\"dataframe\">\n",
       "  <thead>\n",
       "    <tr style=\"text-align: right;\">\n",
       "      <th></th>\n",
       "      <th>idade</th>\n",
       "      <th>sexo</th>\n",
       "      <th>raca</th>\n",
       "      <th>data</th>\n",
       "      <th>estado</th>\n",
       "      <th>causa</th>\n",
       "    </tr>\n",
       "  </thead>\n",
       "  <tbody>\n",
       "    <tr>\n",
       "      <th>0</th>\n",
       "      <td>25</td>\n",
       "      <td>1</td>\n",
       "      <td>NaN</td>\n",
       "      <td>11021996</td>\n",
       "      <td>1200000</td>\n",
       "      <td>V892</td>\n",
       "    </tr>\n",
       "    <tr>\n",
       "      <th>1</th>\n",
       "      <td>30</td>\n",
       "      <td>1</td>\n",
       "      <td>NaN</td>\n",
       "      <td>4061996</td>\n",
       "      <td>1200401</td>\n",
       "      <td>I219</td>\n",
       "    </tr>\n",
       "    <tr>\n",
       "      <th>2</th>\n",
       "      <td>43</td>\n",
       "      <td>2</td>\n",
       "      <td>NaN</td>\n",
       "      <td>20021996</td>\n",
       "      <td>1200401</td>\n",
       "      <td>X999</td>\n",
       "    </tr>\n",
       "    <tr>\n",
       "      <th>3</th>\n",
       "      <td>23</td>\n",
       "      <td>2</td>\n",
       "      <td>NaN</td>\n",
       "      <td>1011996</td>\n",
       "      <td>1200401</td>\n",
       "      <td>O984</td>\n",
       "    </tr>\n",
       "    <tr>\n",
       "      <th>4</th>\n",
       "      <td>21</td>\n",
       "      <td>2</td>\n",
       "      <td>NaN</td>\n",
       "      <td>1011996</td>\n",
       "      <td>1200401</td>\n",
       "      <td>X959</td>\n",
       "    </tr>\n",
       "    <tr>\n",
       "      <th>...</th>\n",
       "      <td>...</td>\n",
       "      <td>...</td>\n",
       "      <td>...</td>\n",
       "      <td>...</td>\n",
       "      <td>...</td>\n",
       "      <td>...</td>\n",
       "    </tr>\n",
       "    <tr>\n",
       "      <th>85989</th>\n",
       "      <td>19</td>\n",
       "      <td>2</td>\n",
       "      <td>5.0</td>\n",
       "      <td>16112022</td>\n",
       "      <td>120034</td>\n",
       "      <td>R99</td>\n",
       "    </tr>\n",
       "    <tr>\n",
       "      <th>85990</th>\n",
       "      <td>82</td>\n",
       "      <td>2</td>\n",
       "      <td>5.0</td>\n",
       "      <td>2112022</td>\n",
       "      <td>120060</td>\n",
       "      <td>J960</td>\n",
       "    </tr>\n",
       "    <tr>\n",
       "      <th>85991</th>\n",
       "      <td>87</td>\n",
       "      <td>2</td>\n",
       "      <td>5.0</td>\n",
       "      <td>20072022</td>\n",
       "      <td>120060</td>\n",
       "      <td>A09</td>\n",
       "    </tr>\n",
       "    <tr>\n",
       "      <th>85992</th>\n",
       "      <td>26</td>\n",
       "      <td>2</td>\n",
       "      <td>5.0</td>\n",
       "      <td>8092022</td>\n",
       "      <td>120060</td>\n",
       "      <td>A153</td>\n",
       "    </tr>\n",
       "    <tr>\n",
       "      <th>85993</th>\n",
       "      <td>59</td>\n",
       "      <td>1</td>\n",
       "      <td>5.0</td>\n",
       "      <td>9122022</td>\n",
       "      <td>120032</td>\n",
       "      <td>R99</td>\n",
       "    </tr>\n",
       "  </tbody>\n",
       "</table>\n",
       "<p>85994 rows × 6 columns</p>\n",
       "</div>"
      ],
      "text/plain": [
       "       idade  sexo  raca      data   estado causa\n",
       "0         25     1   NaN  11021996  1200000  V892\n",
       "1         30     1   NaN   4061996  1200401  I219\n",
       "2         43     2   NaN  20021996  1200401  X999\n",
       "3         23     2   NaN   1011996  1200401  O984\n",
       "4         21     2   NaN   1011996  1200401  X959\n",
       "...      ...   ...   ...       ...      ...   ...\n",
       "85989     19     2   5.0  16112022   120034   R99\n",
       "85990     82     2   5.0   2112022   120060  J960\n",
       "85991     87     2   5.0  20072022   120060   A09\n",
       "85992     26     2   5.0   8092022   120060  A153\n",
       "85993     59     1   5.0   9122022   120032   R99\n",
       "\n",
       "[85994 rows x 6 columns]"
      ]
     },
     "execution_count": 468,
     "metadata": {},
     "output_type": "execute_result"
    }
   ],
   "source": [
    "df['sexo'] = df['sexo'].fillna(0).astype(np.int64)\n",
    "df"
   ]
  },
  {
   "cell_type": "code",
   "execution_count": 469,
   "metadata": {},
   "outputs": [
    {
     "data": {
      "text/plain": [
       "array([nan,  3.,  1.,  4.,  2.,  5.])"
      ]
     },
     "execution_count": 469,
     "metadata": {},
     "output_type": "execute_result"
    }
   ],
   "source": [
    "df['raca'].unique()"
   ]
  },
  {
   "cell_type": "code",
   "execution_count": 470,
   "metadata": {},
   "outputs": [
    {
     "data": {
      "text/html": [
       "<div>\n",
       "<style scoped>\n",
       "    .dataframe tbody tr th:only-of-type {\n",
       "        vertical-align: middle;\n",
       "    }\n",
       "\n",
       "    .dataframe tbody tr th {\n",
       "        vertical-align: top;\n",
       "    }\n",
       "\n",
       "    .dataframe thead th {\n",
       "        text-align: right;\n",
       "    }\n",
       "</style>\n",
       "<table border=\"1\" class=\"dataframe\">\n",
       "  <thead>\n",
       "    <tr style=\"text-align: right;\">\n",
       "      <th></th>\n",
       "      <th>idade</th>\n",
       "      <th>sexo</th>\n",
       "      <th>raca</th>\n",
       "      <th>data</th>\n",
       "      <th>estado</th>\n",
       "      <th>causa</th>\n",
       "    </tr>\n",
       "  </thead>\n",
       "  <tbody>\n",
       "    <tr>\n",
       "      <th>0</th>\n",
       "      <td>25</td>\n",
       "      <td>1</td>\n",
       "      <td>0</td>\n",
       "      <td>11021996</td>\n",
       "      <td>1200000</td>\n",
       "      <td>V892</td>\n",
       "    </tr>\n",
       "    <tr>\n",
       "      <th>1</th>\n",
       "      <td>30</td>\n",
       "      <td>1</td>\n",
       "      <td>0</td>\n",
       "      <td>4061996</td>\n",
       "      <td>1200401</td>\n",
       "      <td>I219</td>\n",
       "    </tr>\n",
       "    <tr>\n",
       "      <th>2</th>\n",
       "      <td>43</td>\n",
       "      <td>2</td>\n",
       "      <td>0</td>\n",
       "      <td>20021996</td>\n",
       "      <td>1200401</td>\n",
       "      <td>X999</td>\n",
       "    </tr>\n",
       "    <tr>\n",
       "      <th>3</th>\n",
       "      <td>23</td>\n",
       "      <td>2</td>\n",
       "      <td>0</td>\n",
       "      <td>1011996</td>\n",
       "      <td>1200401</td>\n",
       "      <td>O984</td>\n",
       "    </tr>\n",
       "    <tr>\n",
       "      <th>4</th>\n",
       "      <td>21</td>\n",
       "      <td>2</td>\n",
       "      <td>0</td>\n",
       "      <td>1011996</td>\n",
       "      <td>1200401</td>\n",
       "      <td>X959</td>\n",
       "    </tr>\n",
       "    <tr>\n",
       "      <th>...</th>\n",
       "      <td>...</td>\n",
       "      <td>...</td>\n",
       "      <td>...</td>\n",
       "      <td>...</td>\n",
       "      <td>...</td>\n",
       "      <td>...</td>\n",
       "    </tr>\n",
       "    <tr>\n",
       "      <th>85989</th>\n",
       "      <td>19</td>\n",
       "      <td>2</td>\n",
       "      <td>5</td>\n",
       "      <td>16112022</td>\n",
       "      <td>120034</td>\n",
       "      <td>R99</td>\n",
       "    </tr>\n",
       "    <tr>\n",
       "      <th>85990</th>\n",
       "      <td>82</td>\n",
       "      <td>2</td>\n",
       "      <td>5</td>\n",
       "      <td>2112022</td>\n",
       "      <td>120060</td>\n",
       "      <td>J960</td>\n",
       "    </tr>\n",
       "    <tr>\n",
       "      <th>85991</th>\n",
       "      <td>87</td>\n",
       "      <td>2</td>\n",
       "      <td>5</td>\n",
       "      <td>20072022</td>\n",
       "      <td>120060</td>\n",
       "      <td>A09</td>\n",
       "    </tr>\n",
       "    <tr>\n",
       "      <th>85992</th>\n",
       "      <td>26</td>\n",
       "      <td>2</td>\n",
       "      <td>5</td>\n",
       "      <td>8092022</td>\n",
       "      <td>120060</td>\n",
       "      <td>A153</td>\n",
       "    </tr>\n",
       "    <tr>\n",
       "      <th>85993</th>\n",
       "      <td>59</td>\n",
       "      <td>1</td>\n",
       "      <td>5</td>\n",
       "      <td>9122022</td>\n",
       "      <td>120032</td>\n",
       "      <td>R99</td>\n",
       "    </tr>\n",
       "  </tbody>\n",
       "</table>\n",
       "<p>85994 rows × 6 columns</p>\n",
       "</div>"
      ],
      "text/plain": [
       "       idade  sexo  raca      data   estado causa\n",
       "0         25     1     0  11021996  1200000  V892\n",
       "1         30     1     0   4061996  1200401  I219\n",
       "2         43     2     0  20021996  1200401  X999\n",
       "3         23     2     0   1011996  1200401  O984\n",
       "4         21     2     0   1011996  1200401  X959\n",
       "...      ...   ...   ...       ...      ...   ...\n",
       "85989     19     2     5  16112022   120034   R99\n",
       "85990     82     2     5   2112022   120060  J960\n",
       "85991     87     2     5  20072022   120060   A09\n",
       "85992     26     2     5   8092022   120060  A153\n",
       "85993     59     1     5   9122022   120032   R99\n",
       "\n",
       "[85994 rows x 6 columns]"
      ]
     },
     "execution_count": 470,
     "metadata": {},
     "output_type": "execute_result"
    }
   ],
   "source": [
    "df['raca'] = df['raca'].fillna(0).astype(np.int64)\n",
    "df"
   ]
  },
  {
   "cell_type": "code",
   "execution_count": 471,
   "metadata": {},
   "outputs": [
    {
     "data": {
      "text/plain": [
       "array([1200000, 1200401, 1200385, 1200203, 1200104, 1200138, 1200708,\n",
       "       1200302, 1200500, 1200427, 1200336, 1200609, 1200450, 1200054,\n",
       "       1200252, 1200344, 1200807, 1200013, 1200393, 1200179, 1200351,\n",
       "       1200328, 1200435,  120033,  120042,  120020,  120043,  120030,\n",
       "        120035,  120034,  120040,  120039,  120060,  120045,  120070,\n",
       "        120017,  120050,  120038,  120010,  120005,  120001,  120080,\n",
       "        120032,  120025,  120000,  120013])"
      ]
     },
     "execution_count": 471,
     "metadata": {},
     "output_type": "execute_result"
    }
   ],
   "source": [
    "df['estado'].unique()"
   ]
  },
  {
   "cell_type": "code",
   "execution_count": 472,
   "metadata": {},
   "outputs": [
    {
     "name": "stdout",
     "output_type": "stream",
     "text": [
      "<class 'pandas.core.series.Series'>\n",
      "RangeIndex: 85994 entries, 0 to 85993\n",
      "Series name: causa\n",
      "Non-Null Count  Dtype \n",
      "--------------  ----- \n",
      "85994 non-null  object\n",
      "dtypes: object(1)\n",
      "memory usage: 672.0+ KB\n"
     ]
    }
   ],
   "source": [
    "df['causa'].info()"
   ]
  },
  {
   "cell_type": "code",
   "execution_count": 473,
   "metadata": {
    "vscode": {
     "languageId": "javascript"
    }
   },
   "outputs": [
    {
     "data": {
      "text/html": [
       "<div>\n",
       "<style scoped>\n",
       "    .dataframe tbody tr th:only-of-type {\n",
       "        vertical-align: middle;\n",
       "    }\n",
       "\n",
       "    .dataframe tbody tr th {\n",
       "        vertical-align: top;\n",
       "    }\n",
       "\n",
       "    .dataframe thead th {\n",
       "        text-align: right;\n",
       "    }\n",
       "</style>\n",
       "<table border=\"1\" class=\"dataframe\">\n",
       "  <thead>\n",
       "    <tr style=\"text-align: right;\">\n",
       "      <th></th>\n",
       "      <th>idade</th>\n",
       "      <th>sexo</th>\n",
       "      <th>raca</th>\n",
       "      <th>data</th>\n",
       "      <th>estado</th>\n",
       "      <th>causa</th>\n",
       "    </tr>\n",
       "  </thead>\n",
       "  <tbody>\n",
       "    <tr>\n",
       "      <th>0</th>\n",
       "      <td>25</td>\n",
       "      <td>1</td>\n",
       "      <td>0</td>\n",
       "      <td>11021996</td>\n",
       "      <td>1200000</td>\n",
       "      <td>V892</td>\n",
       "    </tr>\n",
       "    <tr>\n",
       "      <th>1</th>\n",
       "      <td>30</td>\n",
       "      <td>1</td>\n",
       "      <td>0</td>\n",
       "      <td>04061996</td>\n",
       "      <td>1200401</td>\n",
       "      <td>I219</td>\n",
       "    </tr>\n",
       "    <tr>\n",
       "      <th>2</th>\n",
       "      <td>43</td>\n",
       "      <td>2</td>\n",
       "      <td>0</td>\n",
       "      <td>20021996</td>\n",
       "      <td>1200401</td>\n",
       "      <td>X999</td>\n",
       "    </tr>\n",
       "    <tr>\n",
       "      <th>3</th>\n",
       "      <td>23</td>\n",
       "      <td>2</td>\n",
       "      <td>0</td>\n",
       "      <td>01011996</td>\n",
       "      <td>1200401</td>\n",
       "      <td>O984</td>\n",
       "    </tr>\n",
       "    <tr>\n",
       "      <th>4</th>\n",
       "      <td>21</td>\n",
       "      <td>2</td>\n",
       "      <td>0</td>\n",
       "      <td>01011996</td>\n",
       "      <td>1200401</td>\n",
       "      <td>X959</td>\n",
       "    </tr>\n",
       "    <tr>\n",
       "      <th>...</th>\n",
       "      <td>...</td>\n",
       "      <td>...</td>\n",
       "      <td>...</td>\n",
       "      <td>...</td>\n",
       "      <td>...</td>\n",
       "      <td>...</td>\n",
       "    </tr>\n",
       "    <tr>\n",
       "      <th>85989</th>\n",
       "      <td>19</td>\n",
       "      <td>2</td>\n",
       "      <td>5</td>\n",
       "      <td>16112022</td>\n",
       "      <td>120034</td>\n",
       "      <td>R99</td>\n",
       "    </tr>\n",
       "    <tr>\n",
       "      <th>85990</th>\n",
       "      <td>82</td>\n",
       "      <td>2</td>\n",
       "      <td>5</td>\n",
       "      <td>02112022</td>\n",
       "      <td>120060</td>\n",
       "      <td>J960</td>\n",
       "    </tr>\n",
       "    <tr>\n",
       "      <th>85991</th>\n",
       "      <td>87</td>\n",
       "      <td>2</td>\n",
       "      <td>5</td>\n",
       "      <td>20072022</td>\n",
       "      <td>120060</td>\n",
       "      <td>A09</td>\n",
       "    </tr>\n",
       "    <tr>\n",
       "      <th>85992</th>\n",
       "      <td>26</td>\n",
       "      <td>2</td>\n",
       "      <td>5</td>\n",
       "      <td>08092022</td>\n",
       "      <td>120060</td>\n",
       "      <td>A153</td>\n",
       "    </tr>\n",
       "    <tr>\n",
       "      <th>85993</th>\n",
       "      <td>59</td>\n",
       "      <td>1</td>\n",
       "      <td>5</td>\n",
       "      <td>09122022</td>\n",
       "      <td>120032</td>\n",
       "      <td>R99</td>\n",
       "    </tr>\n",
       "  </tbody>\n",
       "</table>\n",
       "<p>85994 rows × 6 columns</p>\n",
       "</div>"
      ],
      "text/plain": [
       "       idade  sexo  raca      data   estado causa\n",
       "0         25     1     0  11021996  1200000  V892\n",
       "1         30     1     0  04061996  1200401  I219\n",
       "2         43     2     0  20021996  1200401  X999\n",
       "3         23     2     0  01011996  1200401  O984\n",
       "4         21     2     0  01011996  1200401  X959\n",
       "...      ...   ...   ...       ...      ...   ...\n",
       "85989     19     2     5  16112022   120034   R99\n",
       "85990     82     2     5  02112022   120060  J960\n",
       "85991     87     2     5  20072022   120060   A09\n",
       "85992     26     2     5  08092022   120060  A153\n",
       "85993     59     1     5  09122022   120032   R99\n",
       "\n",
       "[85994 rows x 6 columns]"
      ]
     },
     "execution_count": 473,
     "metadata": {},
     "output_type": "execute_result"
    }
   ],
   "source": [
    "df['data'] = df['data'].astype(str).str.zfill(8)\n",
    "df"
   ]
  },
  {
   "cell_type": "code",
   "execution_count": 474,
   "metadata": {},
   "outputs": [
    {
     "data": {
      "text/html": [
       "<div>\n",
       "<style scoped>\n",
       "    .dataframe tbody tr th:only-of-type {\n",
       "        vertical-align: middle;\n",
       "    }\n",
       "\n",
       "    .dataframe tbody tr th {\n",
       "        vertical-align: top;\n",
       "    }\n",
       "\n",
       "    .dataframe thead th {\n",
       "        text-align: right;\n",
       "    }\n",
       "</style>\n",
       "<table border=\"1\" class=\"dataframe\">\n",
       "  <thead>\n",
       "    <tr style=\"text-align: right;\">\n",
       "      <th></th>\n",
       "      <th>idade</th>\n",
       "      <th>sexo</th>\n",
       "      <th>raca</th>\n",
       "      <th>estado</th>\n",
       "      <th>causa</th>\n",
       "    </tr>\n",
       "    <tr>\n",
       "      <th>data</th>\n",
       "      <th></th>\n",
       "      <th></th>\n",
       "      <th></th>\n",
       "      <th></th>\n",
       "      <th></th>\n",
       "    </tr>\n",
       "  </thead>\n",
       "  <tbody>\n",
       "    <tr>\n",
       "      <th>1996-02-11</th>\n",
       "      <td>25</td>\n",
       "      <td>1</td>\n",
       "      <td>0</td>\n",
       "      <td>1200000</td>\n",
       "      <td>V892</td>\n",
       "    </tr>\n",
       "    <tr>\n",
       "      <th>1996-06-04</th>\n",
       "      <td>30</td>\n",
       "      <td>1</td>\n",
       "      <td>0</td>\n",
       "      <td>1200401</td>\n",
       "      <td>I219</td>\n",
       "    </tr>\n",
       "    <tr>\n",
       "      <th>1996-02-20</th>\n",
       "      <td>43</td>\n",
       "      <td>2</td>\n",
       "      <td>0</td>\n",
       "      <td>1200401</td>\n",
       "      <td>X999</td>\n",
       "    </tr>\n",
       "    <tr>\n",
       "      <th>1996-01-01</th>\n",
       "      <td>23</td>\n",
       "      <td>2</td>\n",
       "      <td>0</td>\n",
       "      <td>1200401</td>\n",
       "      <td>O984</td>\n",
       "    </tr>\n",
       "    <tr>\n",
       "      <th>1996-01-01</th>\n",
       "      <td>21</td>\n",
       "      <td>2</td>\n",
       "      <td>0</td>\n",
       "      <td>1200401</td>\n",
       "      <td>X959</td>\n",
       "    </tr>\n",
       "    <tr>\n",
       "      <th>...</th>\n",
       "      <td>...</td>\n",
       "      <td>...</td>\n",
       "      <td>...</td>\n",
       "      <td>...</td>\n",
       "      <td>...</td>\n",
       "    </tr>\n",
       "    <tr>\n",
       "      <th>2022-11-16</th>\n",
       "      <td>19</td>\n",
       "      <td>2</td>\n",
       "      <td>5</td>\n",
       "      <td>120034</td>\n",
       "      <td>R99</td>\n",
       "    </tr>\n",
       "    <tr>\n",
       "      <th>2022-11-02</th>\n",
       "      <td>82</td>\n",
       "      <td>2</td>\n",
       "      <td>5</td>\n",
       "      <td>120060</td>\n",
       "      <td>J960</td>\n",
       "    </tr>\n",
       "    <tr>\n",
       "      <th>2022-07-20</th>\n",
       "      <td>87</td>\n",
       "      <td>2</td>\n",
       "      <td>5</td>\n",
       "      <td>120060</td>\n",
       "      <td>A09</td>\n",
       "    </tr>\n",
       "    <tr>\n",
       "      <th>2022-09-08</th>\n",
       "      <td>26</td>\n",
       "      <td>2</td>\n",
       "      <td>5</td>\n",
       "      <td>120060</td>\n",
       "      <td>A153</td>\n",
       "    </tr>\n",
       "    <tr>\n",
       "      <th>2022-12-09</th>\n",
       "      <td>59</td>\n",
       "      <td>1</td>\n",
       "      <td>5</td>\n",
       "      <td>120032</td>\n",
       "      <td>R99</td>\n",
       "    </tr>\n",
       "  </tbody>\n",
       "</table>\n",
       "<p>85973 rows × 5 columns</p>\n",
       "</div>"
      ],
      "text/plain": [
       "            idade  sexo  raca   estado causa\n",
       "data                                        \n",
       "1996-02-11     25     1     0  1200000  V892\n",
       "1996-06-04     30     1     0  1200401  I219\n",
       "1996-02-20     43     2     0  1200401  X999\n",
       "1996-01-01     23     2     0  1200401  O984\n",
       "1996-01-01     21     2     0  1200401  X959\n",
       "...           ...   ...   ...      ...   ...\n",
       "2022-11-16     19     2     5   120034   R99\n",
       "2022-11-02     82     2     5   120060  J960\n",
       "2022-07-20     87     2     5   120060   A09\n",
       "2022-09-08     26     2     5   120060  A153\n",
       "2022-12-09     59     1     5   120032   R99\n",
       "\n",
       "[85973 rows x 5 columns]"
      ]
     },
     "execution_count": 474,
     "metadata": {},
     "output_type": "execute_result"
    }
   ],
   "source": [
    "# Convert 'data' column to datetime, coerce errors to NaT\n",
    "df['data'] = pd.to_datetime(df['data'], format='%d%m%Y', errors='coerce')\n",
    "\n",
    "# Remove rows with NaT in 'data' column\n",
    "df = df.dropna(subset=['data'])\n",
    "\n",
    "# Set 'data' column as index\n",
    "df.set_index('data', inplace=True)\n",
    "\n",
    "# Display few rows to verify\n",
    "df"
   ]
  },
  {
   "cell_type": "code",
   "execution_count": 475,
   "metadata": {},
   "outputs": [
    {
     "name": "stderr",
     "output_type": "stream",
     "text": [
      "C:\\Users\\angel\\AppData\\Local\\Temp\\ipykernel_27104\\45816211.py:1: SettingWithCopyWarning: \n",
      "A value is trying to be set on a copy of a slice from a DataFrame\n",
      "\n",
      "See the caveats in the documentation: https://pandas.pydata.org/pandas-docs/stable/user_guide/indexing.html#returning-a-view-versus-a-copy\n",
      "  df.drop(columns=['estado'], inplace=True)\n"
     ]
    }
   ],
   "source": [
    "df.drop(columns=['estado'], inplace=True)"
   ]
  },
  {
   "cell_type": "code",
   "execution_count": 477,
   "metadata": {},
   "outputs": [],
   "source": [
    "df.to_parquet('SIM.parquet')"
   ]
  },
  {
   "cell_type": "markdown",
   "metadata": {},
   "source": [
    "# SIH"
   ]
  },
  {
   "cell_type": "code",
   "execution_count": 495,
   "metadata": {},
   "outputs": [
    {
     "data": {
      "text/html": [
       "<div>\n",
       "<style scoped>\n",
       "    .dataframe tbody tr th:only-of-type {\n",
       "        vertical-align: middle;\n",
       "    }\n",
       "\n",
       "    .dataframe tbody tr th {\n",
       "        vertical-align: top;\n",
       "    }\n",
       "\n",
       "    .dataframe thead th {\n",
       "        text-align: right;\n",
       "    }\n",
       "</style>\n",
       "<table border=\"1\" class=\"dataframe\">\n",
       "  <thead>\n",
       "    <tr style=\"text-align: right;\">\n",
       "      <th></th>\n",
       "      <th>IDADE</th>\n",
       "      <th>SEXO</th>\n",
       "      <th>MORTE</th>\n",
       "      <th>DT_INTER</th>\n",
       "      <th>RACA_COR</th>\n",
       "      <th>US_TOT</th>\n",
       "    </tr>\n",
       "  </thead>\n",
       "  <tbody>\n",
       "    <tr>\n",
       "      <th>0</th>\n",
       "      <td>82</td>\n",
       "      <td>3</td>\n",
       "      <td>0</td>\n",
       "      <td>20071207</td>\n",
       "      <td>1</td>\n",
       "      <td>86.13</td>\n",
       "    </tr>\n",
       "    <tr>\n",
       "      <th>1</th>\n",
       "      <td>25</td>\n",
       "      <td>3</td>\n",
       "      <td>0</td>\n",
       "      <td>20071208</td>\n",
       "      <td>3</td>\n",
       "      <td>239.26</td>\n",
       "    </tr>\n",
       "    <tr>\n",
       "      <th>2</th>\n",
       "      <td>19</td>\n",
       "      <td>3</td>\n",
       "      <td>0</td>\n",
       "      <td>20080106</td>\n",
       "      <td>3</td>\n",
       "      <td>363.41</td>\n",
       "    </tr>\n",
       "    <tr>\n",
       "      <th>3</th>\n",
       "      <td>16</td>\n",
       "      <td>3</td>\n",
       "      <td>0</td>\n",
       "      <td>20071218</td>\n",
       "      <td>3</td>\n",
       "      <td>373.00</td>\n",
       "    </tr>\n",
       "    <tr>\n",
       "      <th>4</th>\n",
       "      <td>16</td>\n",
       "      <td>3</td>\n",
       "      <td>0</td>\n",
       "      <td>20071225</td>\n",
       "      <td>3</td>\n",
       "      <td>363.41</td>\n",
       "    </tr>\n",
       "    <tr>\n",
       "      <th>...</th>\n",
       "      <td>...</td>\n",
       "      <td>...</td>\n",
       "      <td>...</td>\n",
       "      <td>...</td>\n",
       "      <td>...</td>\n",
       "      <td>...</td>\n",
       "    </tr>\n",
       "    <tr>\n",
       "      <th>817961</th>\n",
       "      <td>32</td>\n",
       "      <td>1</td>\n",
       "      <td>0</td>\n",
       "      <td>20240618</td>\n",
       "      <td>3</td>\n",
       "      <td>180.00</td>\n",
       "    </tr>\n",
       "    <tr>\n",
       "      <th>817962</th>\n",
       "      <td>18</td>\n",
       "      <td>1</td>\n",
       "      <td>0</td>\n",
       "      <td>20240618</td>\n",
       "      <td>5</td>\n",
       "      <td>37.47</td>\n",
       "    </tr>\n",
       "    <tr>\n",
       "      <th>817963</th>\n",
       "      <td>17</td>\n",
       "      <td>3</td>\n",
       "      <td>0</td>\n",
       "      <td>20240603</td>\n",
       "      <td>3</td>\n",
       "      <td>99.45</td>\n",
       "    </tr>\n",
       "    <tr>\n",
       "      <th>817964</th>\n",
       "      <td>44</td>\n",
       "      <td>1</td>\n",
       "      <td>0</td>\n",
       "      <td>20240625</td>\n",
       "      <td>3</td>\n",
       "      <td>41.19</td>\n",
       "    </tr>\n",
       "    <tr>\n",
       "      <th>817965</th>\n",
       "      <td>30</td>\n",
       "      <td>3</td>\n",
       "      <td>0</td>\n",
       "      <td>20240618</td>\n",
       "      <td>3</td>\n",
       "      <td>178.85</td>\n",
       "    </tr>\n",
       "  </tbody>\n",
       "</table>\n",
       "<p>817966 rows × 6 columns</p>\n",
       "</div>"
      ],
      "text/plain": [
       "        IDADE  SEXO  MORTE  DT_INTER  RACA_COR  US_TOT\n",
       "0          82     3      0  20071207         1   86.13\n",
       "1          25     3      0  20071208         3  239.26\n",
       "2          19     3      0  20080106         3  363.41\n",
       "3          16     3      0  20071218         3  373.00\n",
       "4          16     3      0  20071225         3  363.41\n",
       "...       ...   ...    ...       ...       ...     ...\n",
       "817961     32     1      0  20240618         3  180.00\n",
       "817962     18     1      0  20240618         5   37.47\n",
       "817963     17     3      0  20240603         3   99.45\n",
       "817964     44     1      0  20240625         3   41.19\n",
       "817965     30     3      0  20240618         3  178.85\n",
       "\n",
       "[817966 rows x 6 columns]"
      ]
     },
     "execution_count": 495,
     "metadata": {},
     "output_type": "execute_result"
    }
   ],
   "source": [
    "df = pd.read_csv('../bases/bases_usadas/sih.csv')\n",
    "df"
   ]
  },
  {
   "cell_type": "code",
   "execution_count": 496,
   "metadata": {},
   "outputs": [
    {
     "data": {
      "text/plain": [
       "Index(['idade', 'sexo', 'morte', 'data', 'raca', 'dolar_gasto'], dtype='object')"
      ]
     },
     "execution_count": 496,
     "metadata": {},
     "output_type": "execute_result"
    }
   ],
   "source": [
    "df.rename(columns={\n",
    "    'IDADE': 'idade',\n",
    "    'SEXO': 'sexo',\n",
    "    'MORTE': 'morte',\n",
    "    'DT_INTER': 'data',\n",
    "    'RACA_COR': 'raca',\n",
    "    'US_TOT': 'dolar_gasto'\n",
    "}, inplace=True)\n",
    "\n",
    "df.columns"
   ]
  },
  {
   "cell_type": "code",
   "execution_count": 497,
   "metadata": {},
   "outputs": [
    {
     "data": {
      "text/plain": [
       "array([82, 25, 19, 16, 15, 21, 31, 30, 32, 36, 22, 48, 18, 27, 24, 23, 28,\n",
       "       40, 62, 38, 39, 67, 86, 76, 20,  1, 10,  2,  4, 35, 65, 53, 44,  0,\n",
       "       42, 34,  3, 33, 17, 26, 14, 29, 54,  8, 51, 37, 57, 47, 59, 74, 43,\n",
       "       77, 55,  9, 46, 45,  7, 12,  6, 68, 75, 97, 70, 80, 66, 11, 49, 69,\n",
       "        5, 41, 58, 71, 72, 78, 56, 50, 13, 73, 63, 79, 52, 89, 60, 61, 64,\n",
       "       81, 85, 87, 93, 83, 84, 88, 90, 92, 96, 98, 91, 94, 95, 99])"
      ]
     },
     "execution_count": 497,
     "metadata": {},
     "output_type": "execute_result"
    }
   ],
   "source": [
    "df['idade'].unique()    "
   ]
  },
  {
   "cell_type": "code",
   "execution_count": 498,
   "metadata": {},
   "outputs": [
    {
     "data": {
      "text/plain": [
       "array([3, 1])"
      ]
     },
     "execution_count": 498,
     "metadata": {},
     "output_type": "execute_result"
    }
   ],
   "source": [
    "df['sexo'].unique()"
   ]
  },
  {
   "cell_type": "code",
   "execution_count": 499,
   "metadata": {},
   "outputs": [
    {
     "data": {
      "text/plain": [
       "array([2, 1])"
      ]
     },
     "execution_count": 499,
     "metadata": {},
     "output_type": "execute_result"
    }
   ],
   "source": [
    "df['sexo'] = df['sexo'].fillna(0).replace(3, 2)\n",
    "df['sexo'].unique()"
   ]
  },
  {
   "cell_type": "code",
   "execution_count": 500,
   "metadata": {},
   "outputs": [
    {
     "data": {
      "text/plain": [
       "array([0, 1])"
      ]
     },
     "execution_count": 500,
     "metadata": {},
     "output_type": "execute_result"
    }
   ],
   "source": [
    "df['morte'].unique()"
   ]
  },
  {
   "cell_type": "code",
   "execution_count": 501,
   "metadata": {},
   "outputs": [
    {
     "data": {
      "text/plain": [
       "array([ 1,  3,  2,  4,  5, 99])"
      ]
     },
     "execution_count": 501,
     "metadata": {},
     "output_type": "execute_result"
    }
   ],
   "source": [
    "df['raca'].unique()"
   ]
  },
  {
   "cell_type": "code",
   "execution_count": 502,
   "metadata": {},
   "outputs": [
    {
     "data": {
      "text/plain": [
       "array([1, 3, 2, 4, 5, 0])"
      ]
     },
     "execution_count": 502,
     "metadata": {},
     "output_type": "execute_result"
    }
   ],
   "source": [
    "df['raca'] = df['raca'].replace(99, 0)\n",
    "df['raca'].unique()"
   ]
  },
  {
   "cell_type": "code",
   "execution_count": 503,
   "metadata": {},
   "outputs": [
    {
     "data": {
      "text/plain": [
       "array([  86.13,  239.26,  363.41, ..., 1333.35, 2612.3 ,    8.87])"
      ]
     },
     "execution_count": 503,
     "metadata": {},
     "output_type": "execute_result"
    }
   ],
   "source": [
    "df['dolar_gasto'].unique()"
   ]
  },
  {
   "cell_type": "code",
   "execution_count": 504,
   "metadata": {},
   "outputs": [
    {
     "data": {
      "text/html": [
       "<div>\n",
       "<style scoped>\n",
       "    .dataframe tbody tr th:only-of-type {\n",
       "        vertical-align: middle;\n",
       "    }\n",
       "\n",
       "    .dataframe tbody tr th {\n",
       "        vertical-align: top;\n",
       "    }\n",
       "\n",
       "    .dataframe thead th {\n",
       "        text-align: right;\n",
       "    }\n",
       "</style>\n",
       "<table border=\"1\" class=\"dataframe\">\n",
       "  <thead>\n",
       "    <tr style=\"text-align: right;\">\n",
       "      <th></th>\n",
       "      <th>idade</th>\n",
       "      <th>sexo</th>\n",
       "      <th>morte</th>\n",
       "      <th>data</th>\n",
       "      <th>raca</th>\n",
       "      <th>dolar_gasto</th>\n",
       "    </tr>\n",
       "  </thead>\n",
       "  <tbody>\n",
       "    <tr>\n",
       "      <th>0</th>\n",
       "      <td>82</td>\n",
       "      <td>2</td>\n",
       "      <td>0</td>\n",
       "      <td>20071207</td>\n",
       "      <td>1</td>\n",
       "      <td>86.13</td>\n",
       "    </tr>\n",
       "    <tr>\n",
       "      <th>1</th>\n",
       "      <td>25</td>\n",
       "      <td>2</td>\n",
       "      <td>0</td>\n",
       "      <td>20071208</td>\n",
       "      <td>3</td>\n",
       "      <td>239.26</td>\n",
       "    </tr>\n",
       "    <tr>\n",
       "      <th>2</th>\n",
       "      <td>19</td>\n",
       "      <td>2</td>\n",
       "      <td>0</td>\n",
       "      <td>20080106</td>\n",
       "      <td>3</td>\n",
       "      <td>363.41</td>\n",
       "    </tr>\n",
       "    <tr>\n",
       "      <th>3</th>\n",
       "      <td>16</td>\n",
       "      <td>2</td>\n",
       "      <td>0</td>\n",
       "      <td>20071218</td>\n",
       "      <td>3</td>\n",
       "      <td>373.00</td>\n",
       "    </tr>\n",
       "    <tr>\n",
       "      <th>4</th>\n",
       "      <td>16</td>\n",
       "      <td>2</td>\n",
       "      <td>0</td>\n",
       "      <td>20071225</td>\n",
       "      <td>3</td>\n",
       "      <td>363.41</td>\n",
       "    </tr>\n",
       "    <tr>\n",
       "      <th>...</th>\n",
       "      <td>...</td>\n",
       "      <td>...</td>\n",
       "      <td>...</td>\n",
       "      <td>...</td>\n",
       "      <td>...</td>\n",
       "      <td>...</td>\n",
       "    </tr>\n",
       "    <tr>\n",
       "      <th>817961</th>\n",
       "      <td>32</td>\n",
       "      <td>1</td>\n",
       "      <td>0</td>\n",
       "      <td>20240618</td>\n",
       "      <td>3</td>\n",
       "      <td>180.00</td>\n",
       "    </tr>\n",
       "    <tr>\n",
       "      <th>817962</th>\n",
       "      <td>18</td>\n",
       "      <td>1</td>\n",
       "      <td>0</td>\n",
       "      <td>20240618</td>\n",
       "      <td>5</td>\n",
       "      <td>37.47</td>\n",
       "    </tr>\n",
       "    <tr>\n",
       "      <th>817963</th>\n",
       "      <td>17</td>\n",
       "      <td>2</td>\n",
       "      <td>0</td>\n",
       "      <td>20240603</td>\n",
       "      <td>3</td>\n",
       "      <td>99.45</td>\n",
       "    </tr>\n",
       "    <tr>\n",
       "      <th>817964</th>\n",
       "      <td>44</td>\n",
       "      <td>1</td>\n",
       "      <td>0</td>\n",
       "      <td>20240625</td>\n",
       "      <td>3</td>\n",
       "      <td>41.19</td>\n",
       "    </tr>\n",
       "    <tr>\n",
       "      <th>817965</th>\n",
       "      <td>30</td>\n",
       "      <td>2</td>\n",
       "      <td>0</td>\n",
       "      <td>20240618</td>\n",
       "      <td>3</td>\n",
       "      <td>178.85</td>\n",
       "    </tr>\n",
       "  </tbody>\n",
       "</table>\n",
       "<p>817966 rows × 6 columns</p>\n",
       "</div>"
      ],
      "text/plain": [
       "        idade  sexo  morte      data  raca  dolar_gasto\n",
       "0          82     2      0  20071207     1        86.13\n",
       "1          25     2      0  20071208     3       239.26\n",
       "2          19     2      0  20080106     3       363.41\n",
       "3          16     2      0  20071218     3       373.00\n",
       "4          16     2      0  20071225     3       363.41\n",
       "...       ...   ...    ...       ...   ...          ...\n",
       "817961     32     1      0  20240618     3       180.00\n",
       "817962     18     1      0  20240618     5        37.47\n",
       "817963     17     2      0  20240603     3        99.45\n",
       "817964     44     1      0  20240625     3        41.19\n",
       "817965     30     2      0  20240618     3       178.85\n",
       "\n",
       "[817966 rows x 6 columns]"
      ]
     },
     "execution_count": 504,
     "metadata": {},
     "output_type": "execute_result"
    }
   ],
   "source": [
    "df['dolar_gasto'] = df['dolar_gasto'].fillna(df['dolar_gasto'].mean())\n",
    "df"
   ]
  },
  {
   "cell_type": "code",
   "execution_count": 505,
   "metadata": {},
   "outputs": [
    {
     "data": {
      "text/html": [
       "<div>\n",
       "<style scoped>\n",
       "    .dataframe tbody tr th:only-of-type {\n",
       "        vertical-align: middle;\n",
       "    }\n",
       "\n",
       "    .dataframe tbody tr th {\n",
       "        vertical-align: top;\n",
       "    }\n",
       "\n",
       "    .dataframe thead th {\n",
       "        text-align: right;\n",
       "    }\n",
       "</style>\n",
       "<table border=\"1\" class=\"dataframe\">\n",
       "  <thead>\n",
       "    <tr style=\"text-align: right;\">\n",
       "      <th></th>\n",
       "      <th>idade</th>\n",
       "      <th>sexo</th>\n",
       "      <th>morte</th>\n",
       "      <th>raca</th>\n",
       "      <th>dolar_gasto</th>\n",
       "    </tr>\n",
       "    <tr>\n",
       "      <th>data</th>\n",
       "      <th></th>\n",
       "      <th></th>\n",
       "      <th></th>\n",
       "      <th></th>\n",
       "      <th></th>\n",
       "    </tr>\n",
       "  </thead>\n",
       "  <tbody>\n",
       "    <tr>\n",
       "      <th>2007-12-07</th>\n",
       "      <td>82</td>\n",
       "      <td>2</td>\n",
       "      <td>0</td>\n",
       "      <td>1</td>\n",
       "      <td>86.13</td>\n",
       "    </tr>\n",
       "    <tr>\n",
       "      <th>2007-12-08</th>\n",
       "      <td>25</td>\n",
       "      <td>2</td>\n",
       "      <td>0</td>\n",
       "      <td>3</td>\n",
       "      <td>239.26</td>\n",
       "    </tr>\n",
       "    <tr>\n",
       "      <th>2008-01-06</th>\n",
       "      <td>19</td>\n",
       "      <td>2</td>\n",
       "      <td>0</td>\n",
       "      <td>3</td>\n",
       "      <td>363.41</td>\n",
       "    </tr>\n",
       "    <tr>\n",
       "      <th>2007-12-18</th>\n",
       "      <td>16</td>\n",
       "      <td>2</td>\n",
       "      <td>0</td>\n",
       "      <td>3</td>\n",
       "      <td>373.00</td>\n",
       "    </tr>\n",
       "    <tr>\n",
       "      <th>2007-12-25</th>\n",
       "      <td>16</td>\n",
       "      <td>2</td>\n",
       "      <td>0</td>\n",
       "      <td>3</td>\n",
       "      <td>363.41</td>\n",
       "    </tr>\n",
       "    <tr>\n",
       "      <th>...</th>\n",
       "      <td>...</td>\n",
       "      <td>...</td>\n",
       "      <td>...</td>\n",
       "      <td>...</td>\n",
       "      <td>...</td>\n",
       "    </tr>\n",
       "    <tr>\n",
       "      <th>2024-06-18</th>\n",
       "      <td>32</td>\n",
       "      <td>1</td>\n",
       "      <td>0</td>\n",
       "      <td>3</td>\n",
       "      <td>180.00</td>\n",
       "    </tr>\n",
       "    <tr>\n",
       "      <th>2024-06-18</th>\n",
       "      <td>18</td>\n",
       "      <td>1</td>\n",
       "      <td>0</td>\n",
       "      <td>5</td>\n",
       "      <td>37.47</td>\n",
       "    </tr>\n",
       "    <tr>\n",
       "      <th>2024-06-03</th>\n",
       "      <td>17</td>\n",
       "      <td>2</td>\n",
       "      <td>0</td>\n",
       "      <td>3</td>\n",
       "      <td>99.45</td>\n",
       "    </tr>\n",
       "    <tr>\n",
       "      <th>2024-06-25</th>\n",
       "      <td>44</td>\n",
       "      <td>1</td>\n",
       "      <td>0</td>\n",
       "      <td>3</td>\n",
       "      <td>41.19</td>\n",
       "    </tr>\n",
       "    <tr>\n",
       "      <th>2024-06-18</th>\n",
       "      <td>30</td>\n",
       "      <td>2</td>\n",
       "      <td>0</td>\n",
       "      <td>3</td>\n",
       "      <td>178.85</td>\n",
       "    </tr>\n",
       "  </tbody>\n",
       "</table>\n",
       "<p>817966 rows × 5 columns</p>\n",
       "</div>"
      ],
      "text/plain": [
       "            idade  sexo  morte  raca  dolar_gasto\n",
       "data                                             \n",
       "2007-12-07     82     2      0     1        86.13\n",
       "2007-12-08     25     2      0     3       239.26\n",
       "2008-01-06     19     2      0     3       363.41\n",
       "2007-12-18     16     2      0     3       373.00\n",
       "2007-12-25     16     2      0     3       363.41\n",
       "...           ...   ...    ...   ...          ...\n",
       "2024-06-18     32     1      0     3       180.00\n",
       "2024-06-18     18     1      0     5        37.47\n",
       "2024-06-03     17     2      0     3        99.45\n",
       "2024-06-25     44     1      0     3        41.19\n",
       "2024-06-18     30     2      0     3       178.85\n",
       "\n",
       "[817966 rows x 5 columns]"
      ]
     },
     "execution_count": 505,
     "metadata": {},
     "output_type": "execute_result"
    }
   ],
   "source": [
    "# Convert 'data' column to datetime, coerce errors to NaT\n",
    "df['data'] = pd.to_datetime(df['data'], format='%Y%m%d', errors='coerce')\n",
    "\n",
    "# Remove rows with NaT in 'data' column\n",
    "df = df.dropna(subset=['data'])\n",
    "\n",
    "# Set 'data' column as index\n",
    "df.set_index('data', inplace=True)\n",
    "\n",
    "# Display few rows to verify\n",
    "df"
   ]
  },
  {
   "cell_type": "code",
   "execution_count": 506,
   "metadata": {},
   "outputs": [],
   "source": [
    "df.to_parquet('SIH.parquet')"
   ]
  },
  {
   "cell_type": "markdown",
   "metadata": {},
   "source": [
    "# Correction"
   ]
  },
  {
   "cell_type": "code",
   "execution_count": 2,
   "metadata": {},
   "outputs": [],
   "source": [
    "import pandas as pd"
   ]
  },
  {
   "cell_type": "code",
   "execution_count": 6,
   "metadata": {},
   "outputs": [
    {
     "name": "stdout",
     "output_type": "stream",
     "text": [
      "<class 'pandas.core.frame.DataFrame'>\n",
      "DatetimeIndex: 419624 entries, 2007-01-02 to 2023-06-29\n",
      "Data columns (total 4 columns):\n",
      " #   Column  Non-Null Count   Dtype \n",
      "---  ------  --------------   ----- \n",
      " 0   sexo    419624 non-null  object\n",
      " 1   idade   419624 non-null  int64 \n",
      " 2   raca    419624 non-null  int64 \n",
      " 3   estado  419624 non-null  int64 \n",
      "dtypes: int64(3), object(1)\n",
      "memory usage: 16.0+ MB\n"
     ]
    }
   ],
   "source": [
    "df = pd.read_parquet('../parquet_data/AIDS.parquet')\n",
    "df.info()"
   ]
  },
  {
   "cell_type": "code",
   "execution_count": 7,
   "metadata": {},
   "outputs": [
    {
     "name": "stdout",
     "output_type": "stream",
     "text": [
      "<class 'pandas.core.frame.DataFrame'>\n",
      "DatetimeIndex: 419624 entries, 2007-01-02 to 2023-06-29\n",
      "Data columns (total 4 columns):\n",
      " #   Column  Non-Null Count   Dtype\n",
      "---  ------  --------------   -----\n",
      " 0   sexo    419624 non-null  int64\n",
      " 1   idade   419624 non-null  int64\n",
      " 2   raca    419624 non-null  int64\n",
      " 3   estado  419624 non-null  int64\n",
      "dtypes: int64(4)\n",
      "memory usage: 16.0 MB\n"
     ]
    }
   ],
   "source": [
    "df['sexo'] = df['sexo'].astype(int)\n",
    "df.info()"
   ]
  },
  {
   "cell_type": "code",
   "execution_count": null,
   "metadata": {},
   "outputs": [],
   "source": [
    "df.to_parquet('AIDS.parquet')"
   ]
  }
 ],
 "metadata": {
  "kernelspec": {
   "display_name": "Python 3",
   "language": "python",
   "name": "python3"
  },
  "language_info": {
   "codemirror_mode": {
    "name": "ipython",
    "version": 3
   },
   "file_extension": ".py",
   "mimetype": "text/x-python",
   "name": "python",
   "nbconvert_exporter": "python",
   "pygments_lexer": "ipython3",
   "version": "3.12.7"
  }
 },
 "nbformat": 4,
 "nbformat_minor": 2
}
